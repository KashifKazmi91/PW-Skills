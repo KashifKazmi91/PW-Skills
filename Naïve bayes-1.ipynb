{
 "cells": [
  {
   "cell_type": "code",
   "execution_count": null,
   "id": "0a0343f0",
   "metadata": {},
   "outputs": [],
   "source": [
    "Q1. What is Bayes' theorem?"
   ]
  },
  {
   "cell_type": "code",
   "execution_count": null,
   "id": "58a36b9d",
   "metadata": {},
   "outputs": [],
   "source": [
    "Bayes' theorem is a fundamental concept in probability theory and statistics that describes how to update the \n",
    "probability of a hypothesis based on new evidence. It relates the conditional and marginal probabilities of random \n",
    "events. The theorem is mathematically expressed as:\n",
    "\n",
    "\\[\n",
    "P(H | E) = \\frac{P(E | H) \\cdot P(H)}{P(E)}\n",
    "\\]\n",
    "\n",
    "### Where:\n",
    "- \\( P(H | E) \\): The posterior probability of the hypothesis \\( H \\) given the evidence \\( E \\). This is what we \n",
    "    want to calculate.\n",
    "- \\( P(E | H) \\): The likelihood of observing the evidence \\( E \\) given that the hypothesis \\( H \\) is true.\n",
    "- \\( P(H) \\): The prior probability of the hypothesis \\( H \\) before observing the evidence.\n",
    "- \\( P(E) \\): The marginal probability of the evidence \\( E \\), which can be computed using the law of total p\n",
    "    robability.\n",
    "\n",
    "### Key Concepts:\n",
    "- **Prior Probability (\\( P(H) \\))**: This reflects our initial belief about the hypothesis before considering the \n",
    "    new evidence.\n",
    "- **Likelihood (\\( P(E | H) \\))**: This measures how well the hypothesis explains the evidence.\n",
    "- **Posterior Probability (\\( P(H | E) \\))**: This is the updated belief about the hypothesis after considering the\n",
    "    evidence.\n",
    "\n",
    "### Applications:\n",
    "Bayes' theorem is widely used in various fields, including:\n",
    "- **Medical Diagnosis**: To update the probability of a disease based on test results.\n",
    "- **Spam Filtering**: To determine whether an email is spam based on the presence of certain words.\n",
    "- **Machine Learning**: In Bayesian inference and classification algorithms like Naive Bayes.\n"
   ]
  },
  {
   "cell_type": "code",
   "execution_count": null,
   "id": "f0721455",
   "metadata": {},
   "outputs": [],
   "source": [
    "Q2. What is the formula for Bayes' theorem?"
   ]
  },
  {
   "cell_type": "code",
   "execution_count": null,
   "id": "d4155a34",
   "metadata": {},
   "outputs": [],
   "source": [
    "The formula for Bayes' theorem is expressed as:\n",
    "\n",
    "[P(H | E) = {P(E | H)/ \\cdot P(H)}{P(E)}]\n",
    "\n",
    "### Where:\n",
    "- \\( P(H | E) \\): Posterior probability – the probability of the hypothesis \\( H \\) given the evidence \\( E \\).\n",
    "- \\( P(E | H) \\): Likelihood – the probability of observing the evidence \\( E \\) given that the hypothesis \\( H \\) \n",
    "    is true.\n",
    "- \\( P(H) \\): Prior probability – the probability of the hypothesis \\( H \\) before observing the evidence.\n",
    "- \\( P(E) \\): Marginal probability – the total probability of the evidence \\( E \\), which can be computed as:\n",
    "  \n",
    "[P(E) = P(E | H) \\cdot P(H) + P(E | \\neg H) \\cdot P(\\neg H)]\n",
    "\n",
    "where \\( \\neg H \\) represents the alternative hypothesis (not \\( H \\))."
   ]
  },
  {
   "cell_type": "code",
   "execution_count": null,
   "id": "4b1fd9a1",
   "metadata": {},
   "outputs": [],
   "source": [
    "Q3. How is Bayes' theorem used in practice?"
   ]
  },
  {
   "cell_type": "code",
   "execution_count": null,
   "id": "6970edea",
   "metadata": {},
   "outputs": [],
   "source": [
    "Bayes' theorem is applied in various fields and scenarios, providing a systematic way to update probabilities based on\n",
    "new evidence. Here are some common practical applications:\n",
    "\n",
    "### 1. **Medical Diagnosis**:\n",
    "   - **Application**: In healthcare, Bayes' theorem helps in assessing the probability of a disease based on test\n",
    "        results.\n",
    "   - **Example**: Given a positive test result, you can update the probability that a patient has a disease by \n",
    "    considering the test's accuracy (sensitivity and specificity) and the prevalence of the disease.\n",
    "\n",
    "### 2. **Spam Filtering**:\n",
    "   - **Application**: Email services use Bayesian spam filters to classify emails as spam or not spam based on \n",
    "        features such as specific words or phrases.\n",
    "   - **Example**: By analyzing past emails and their classifications, the filter updates the probability that a \n",
    "    new email is spam based on its content.\n",
    "\n",
    "### 3. **Machine Learning**:\n",
    "   - **Application**: In classification problems, particularly with algorithms like Naive Bayes, Bayes' theorem is\n",
    "        used to calculate the probability of a class given input features.\n",
    "   - **Example**: Naive Bayes classifiers assume independence among features and update class probabilities based \n",
    "    on the presence of these features in the training data.\n",
    "\n",
    "### 4. **Finance and Risk Assessment**:\n",
    "   - **Application**: Investors use Bayes' theorem to update the likelihood of various market conditions based on \n",
    "        new economic data or financial reports.\n",
    "   - **Example**: An investor might adjust their expectation of a stock's future performance based on recent earnings\n",
    "    announcements.\n",
    "\n",
    "### 5. **Natural Language Processing (NLP)**:\n",
    "   - **Application**: Bayes' theorem is employed in various NLP tasks, including document classification and sentiment\n",
    "        analysis.\n",
    "   - **Example**: In sentiment analysis, it helps determine the sentiment of a text based on the likelihood of certain\n",
    "    words or phrases appearing in positive or negative contexts.\n",
    "\n",
    "### 6. **Genetics**:\n",
    "   - **Application**: In genetic research, Bayes' theorem is used to estimate the probability of a trait or condition\n",
    "        given genetic markers.\n",
    "   - **Example**: Researchers might use it to predict the likelihood of an individual having a genetic disorder based \n",
    "    on their genetic profile.\n",
    "\n",
    "### 7. **Weather Forecasting**:\n",
    "   - **Application**: Meteorologists use Bayesian methods to update the probabilities of different weather conditions\n",
    "        as new data becomes available.\n",
    "   - **Example**: As new satellite data comes in, the forecast models can adjust the likelihood of rain or sunshine.\n"
   ]
  },
  {
   "cell_type": "code",
   "execution_count": null,
   "id": "7bd57b72",
   "metadata": {},
   "outputs": [],
   "source": [
    "Q4. What is the relationship between Bayes' theorem and conditional probability?"
   ]
  },
  {
   "cell_type": "code",
   "execution_count": null,
   "id": "66d0f746",
   "metadata": {},
   "outputs": [],
   "source": [
    "Bayes' theorem is fundamentally based on the concept of conditional probability. It provides a way to calculate the \n",
    "conditional probability \\( P(H | E) \\) of a hypothesis \\( H \\) given evidence \\( E \\) by relating it to the likelihood\n",
    "\\( P(E | H) \\), the prior probability \\( P(H) \\), and the marginal probability \\( P(E) \\).\n",
    "\n",
    "In essence, Bayes' theorem expresses how to update the probability of a hypothesis in light of new evidence, \n",
    "demonstrating the interdependence between the probabilities of different events. The relationship can be summarized\n",
    "as follows:\n",
    "\n",
    "[P(H | E) = \\frac{P(E | H) \\cdot P(H)}{P(E)}]\n",
    "\n",
    "This formula highlights how the probability of a hypothesis is influenced by the probability of the evidence occurring\n",
    "under that hypothesis, as well as the overall probability of the evidence."
   ]
  },
  {
   "cell_type": "code",
   "execution_count": null,
   "id": "0eacd592",
   "metadata": {},
   "outputs": [],
   "source": [
    "Q5. How do you choose which type of Naive Bayes classifier to use for any given problem?"
   ]
  },
  {
   "cell_type": "code",
   "execution_count": null,
   "id": "f6736251",
   "metadata": {},
   "outputs": [],
   "source": [
    "Choosing the appropriate type of Naive Bayes classifier for a given problem depends on the nature of the data, \n",
    "specifically the distribution of the features. Here are the main types of Naive Bayes classifiers and guidance on\n",
    "when to use each:\n",
    "\n",
    "### 1. **Gaussian Naive Bayes**:\n",
    "   - **Use When**: The features are continuous and assumed to follow a Gaussian (normal) distribution.\n",
    "   - **Example**: This classifier is suitable for datasets where features such as heights, weights, or measurements \n",
    "    are continuous.\n",
    "   - **How It Works**: It calculates the probability of each feature using the mean and variance, assuming that \n",
    "    features are normally distributed.\n",
    "\n",
    "### 2. **Multinomial Naive Bayes**:\n",
    "   - **Use When**: The features are discrete counts or frequencies, commonly used in text classification tasks.\n",
    "   - **Example**: This classifier is appropriate for problems like spam detection or sentiment analysis where the \n",
    "    features represent word counts or term frequencies.\n",
    "   - **How It Works**: It uses the multinomial distribution to model the likelihood of each feature given a class label.\n",
    "\n",
    "### 3. **Bernoulli Naive Bayes**:\n",
    "   - **Use When**: The features are binary (0 or 1), indicating the presence or absence of a feature.\n",
    "   - **Example**: This is suitable for text classification where the features indicate whether a word appears in a\n",
    "    document or not.\n",
    "   - **How It Works**: It assumes that each feature is independent and follows a Bernoulli distribution.\n",
    "\n",
    "### Factors to Consider When Choosing a Classifier:\n",
    "\n",
    "1. **Nature of Features**:\n",
    "   - Continuous features suggest Gaussian Naive Bayes.\n",
    "   - Discrete counts point to Multinomial Naive Bayes.\n",
    "   - Binary features indicate Bernoulli Naive Bayes.\n",
    "\n",
    "2. **Data Distribution**:\n",
    "   - Assess whether your data fits the assumptions of normality (Gaussian) for continuous features or whether features\n",
    "are count-based (Multinomial) or binary (Bernoulli).\n",
    "\n",
    "3. **Problem Domain**:\n",
    "   - Consider the specific context of the problem and the types of data commonly used in similar applications. \n",
    "For example, text data typically uses Multinomial or Bernoulli Naive Bayes.\n",
    "\n",
    "4. **Performance Metrics**:\n",
    "   - After selecting a classifier, evaluate its performance using cross-validation or a hold-out validation set. \n",
    "Compare accuracy, precision, recall, and F1-score to determine which model works best for your specific problem."
   ]
  },
  {
   "cell_type": "code",
   "execution_count": null,
   "id": "6b58c5cf",
   "metadata": {},
   "outputs": [],
   "source": [
    "Q6. Assignment:\n",
    "You have a dataset with two features, X1 and X2, and two possible classes, A and B. You want to use Naive\n",
    "Bayes to classify a new instance with features X1 = 3 and X2 = 4. The following table shows the frequency of\n",
    "each feature value for each class:\n",
    "Class X1=1 X1=2 X1=3 X2=1 X2=2 X2=3 X2=4\n",
    "A      3    3    4     4    3    3    3\n",
    "B      2    2    1     2    2    2    3\n",
    "Assuming equal prior probabilities for each class, which class would Naive Bayes predict the new instance\n",
    "to belong to?"
   ]
  },
  {
   "cell_type": "code",
   "execution_count": null,
   "id": "b6390a60",
   "metadata": {},
   "outputs": [],
   "source": [
    "Since P(A∣X1=3,X2=4)>P(B∣X1=3,X2=4)P(A∣X1=3,X2=4)>P(B∣X1=3,X2=4), the Naive Bayes classifier would predict that the \n",
    "new instance with X1=3X1=3 and X2=4X2=4 belongs to Class A."
   ]
  }
 ],
 "metadata": {
  "kernelspec": {
   "display_name": "Python 3 (ipykernel)",
   "language": "python",
   "name": "python3"
  },
  "language_info": {
   "codemirror_mode": {
    "name": "ipython",
    "version": 3
   },
   "file_extension": ".py",
   "mimetype": "text/x-python",
   "name": "python",
   "nbconvert_exporter": "python",
   "pygments_lexer": "ipython3",
   "version": "3.11.5"
  }
 },
 "nbformat": 4,
 "nbformat_minor": 5
}
