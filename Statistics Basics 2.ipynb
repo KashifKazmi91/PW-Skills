{
 "cells": [
  {
   "cell_type": "code",
   "execution_count": null,
   "id": "6b908749",
   "metadata": {},
   "outputs": [],
   "source": [
    "Q1. What are the three measures of central tendency?"
   ]
  },
  {
   "cell_type": "code",
   "execution_count": null,
   "id": "82a16179",
   "metadata": {},
   "outputs": [],
   "source": [
    "The three measures of central tendency are:\n",
    "1. Mean:\n",
    "- Definition: The average of all data points in a dataset, calculated by summing all values and dividing by the \n",
    "number of values.\n",
    "- Usage: It provides a measure of the overall level of the data and is useful for normally distributed datasets. \n",
    "However, it can be affected by outliers.\n",
    "\n",
    "2. Median:\n",
    "- Definition: The middle value of a dataset when the values are arranged in ascending or descending order. If there \n",
    "is an even number of observations, the median is the average of the two middle numbers.\n",
    "- Usage: The median is particularly useful in skewed distributions or when outliers are present, as it better \n",
    "represents the central tendency of the data.\n",
    "\n",
    "3. Mode:\n",
    "- Definition: The value that appears most frequently in a dataset. A dataset may have one mode (unimodal), more \n",
    "than one mode (bimodal or multimodal), or no mode at all.\n",
    "- Usage: The mode is useful for categorical data or to identify the most common value in a dataset."
   ]
  },
  {
   "cell_type": "code",
   "execution_count": null,
   "id": "8a8d9845",
   "metadata": {},
   "outputs": [],
   "source": [
    "Q2. What is the difference between the mean, median, and mode? How are they used to measure the\n",
    "central tendency of a dataset?"
   ]
  },
  {
   "cell_type": "code",
   "execution_count": null,
   "id": "ca0c3282",
   "metadata": {},
   "outputs": [],
   "source": [
    "The mean, median, and mode are all measures of central tendency, but they differ in how they are calculated and what\n",
    "they represent. Here's a breakdown of each measure, their differences, and their uses:\n",
    "1. Mean\n",
    "- Definition: The mean is the arithmetic average of a dataset. It is calculated by summing all the values and dividing \n",
    "by the number of values.\n",
    "- Usage: \n",
    "- The mean provides a quick summary of the data's central value.\n",
    "- It is sensitive to outliers, meaning that extremely high or low values can significantly affect the mean. \n",
    "For example, in the dataset [1, 2, 3, 4, 100], the mean is 22, which may not represent the typical values.\n",
    "\n",
    "2. Median\n",
    "- Definition: The median is the middle value of a dataset when the values are ordered. If there’s an even number of \n",
    "observations, it is the average of the two middle numbers.\n",
    "- Usage: \n",
    "- The median is useful for skewed distributions or when outliers are present, as it is not affected by extreme values.\n",
    "For instance, in the dataset [1, 2, 3, 4, 100], the median is 3, which better reflects the center of the majority of \n",
    "the data.\n",
    "\n",
    "3. Mode\n",
    "- Definition: The mode is the value that appears most frequently in a dataset. A dataset can have one mode (unimodal), \n",
    "multiple modes (bimodal or multimodal), or no mode at all.\n",
    "- Usage: \n",
    "- The mode is particularly useful for categorical data, where we want to know the most common category. For example, \n",
    "in the dataset [red, blue, blue, green], the mode is \"blue.\" \n",
    "- The mode can also indicate trends in numerical datasets, although it may not always reflect the central tendency \n",
    "effectively."
   ]
  },
  {
   "cell_type": "code",
   "execution_count": null,
   "id": "6198c71f",
   "metadata": {},
   "outputs": [],
   "source": [
    "Q3. Measure the three measures of central tendency for the given height data:\n",
    "[178,177,176,177,178.2,178,175,179,180,175,178.9,176.2,177,172.5,178,176.5]"
   ]
  },
  {
   "cell_type": "code",
   "execution_count": null,
   "id": "9d74996f",
   "metadata": {},
   "outputs": [],
   "source": [
    "1. Mean: approx 165.96\n",
    "\n",
    "2. Median:177\n",
    "\n",
    "3. Mode:\n",
    "\n",
    "From the sorted data:\n",
    "- The heights appear as follows:\n",
    "  - 175: 2 times\n",
    "  - 176: 2 times\n",
    "  - 177: 3 times\n",
    "  - 178: 4 times\n",
    "  - 178.2: 1 time\n",
    "  - 179: 1 time\n",
    "  - 180: 1 time\n",
    "\n",
    "The mode is 178, as it appears most frequently."
   ]
  },
  {
   "cell_type": "code",
   "execution_count": null,
   "id": "f9ec816c",
   "metadata": {},
   "outputs": [],
   "source": [
    "Q4. Find the standard deviation for the given data:\n",
    "[178,177,176,177,178.2,178,175,179,180,175,178.9,176.2,177,172.5,178,176.5]"
   ]
  },
  {
   "cell_type": "code",
   "execution_count": null,
   "id": "6641d2cf",
   "metadata": {},
   "outputs": [],
   "source": [
    "Standard Deviation: approx 1.94"
   ]
  },
  {
   "cell_type": "code",
   "execution_count": null,
   "id": "eba1fbfc",
   "metadata": {},
   "outputs": [],
   "source": [
    "Q5. How are measures of dispersion such as range, variance, and standard deviation used to describe\n",
    "the spread of a dataset? Provide an example."
   ]
  },
  {
   "cell_type": "code",
   "execution_count": null,
   "id": "e81d5e08",
   "metadata": {},
   "outputs": [],
   "source": [
    "Measures of dispersion, such as range, variance, and standard deviation, are essential for understanding the spread or \n",
    "variability of a dataset. Here's how each measure works and an example to illustrate their use:\n",
    "\n",
    "1. Range\n",
    "- Definition: The range is the difference between the maximum and minimum values in a dataset. It provides a simple \n",
    "measure of how spread out the values are.\n",
    "- Usage: The range gives a quick sense of the extent of the data but does not provide information about how the values \n",
    "are distributed within that range.\n",
    "\n",
    "Example:\n",
    "Consider the dataset of test scores: [55, 78, 62, 90, 84]\n",
    "- Range = 90 - 55 = 35\n",
    "This indicates that the test scores span a range of 35 points.\n",
    "\n",
    "2. Variance\n",
    "- Definition: Variance measures the average of the squared differences from the mean. It quantifies how much the \n",
    "values in a dataset deviate from the mean.\n",
    "- Usage: A higher variance indicates greater spread in the dataset, while a variance of zero means all values are \n",
    "identical.\n",
    "\n",
    "Example:\n",
    "Using the same test scores [55, 78, 62, 90, 84]:\n",
    "1. Calculate the Mean:\n",
    "{55 + 78 + 62 + 90 + 84}/{5} = 73.8\n",
    "\n",
    "2. Calculate Variance: approx 174.8\n",
    "\n",
    "3. Standard Deviation\n",
    "- Definition: The standard deviation is the square root of the variance. It provides a measure of dispersion in the \n",
    "same units as the original data.\n",
    "- Usage: Like variance, a higher standard deviation indicates more variability. It is often more interpretable than\n",
    "variance because it is in the same units as the data.\n",
    "\n",
    "Example:\n",
    "Continuing with our test scores:\n",
    "\n",
    "\\text{Standard Deviation} = \\sqrt{\\text{Variance}} \\approx \\sqrt{174.8} \\approx 13.23\n",
    "\n",
    "This means that on average, the test scores deviate from the mean score (73.8) by about 13.23 points."
   ]
  },
  {
   "cell_type": "code",
   "execution_count": null,
   "id": "b248e70f",
   "metadata": {},
   "outputs": [],
   "source": [
    "Q6. What is a Venn diagram?"
   ]
  },
  {
   "cell_type": "code",
   "execution_count": null,
   "id": "718daafd",
   "metadata": {},
   "outputs": [],
   "source": [
    "A Venn diagram is a visual representation of the relationships between different sets. It typically consists of \n",
    "overlapping circles, where each circle represents a set. The areas where the circles overlap illustrate the \n",
    "intersections of the sets, showing common elements shared between them. \n",
    "\n",
    "Key Features of Venn Diagrams:\n",
    "1. Sets Representation: Each circle corresponds to a different set, with the entire circle representing all elements \n",
    "in that set.\n",
    "2. Intersections: The overlapping areas depict elements that belong to multiple sets. For example, if two circles \n",
    "overlap, the overlapping region contains elements that are common to both sets.\n",
    "3. Universal Set: Sometimes, a rectangle is drawn around the circles to represent the universal set, which contains \n",
    "all possible elements under consideration.\n",
    "\n",
    "Uses of Venn Diagrams:\n",
    "- Logic and Set Theory: To illustrate logical relationships and operations such as union, intersection, and difference.\n",
    "- Statistics: To display relationships between different groups or populations.\n",
    "- Problem Solving: To help visualize and solve problems involving relationships among multiple groups.\n",
    "- Education: Commonly used in teaching to explain set theory concepts in a clear and engaging way.\n",
    "\n",
    "Example:\n",
    "For two sets, A and B:\n",
    "- Set A: {1, 2, 3}\n",
    "- Set B: {2, 3, 4}\n",
    "\n",
    "In a Venn diagram:\n",
    "- Circle A would include 1, 2, and 3.\n",
    "- Circle B would include 2, 3, and 4.\n",
    "- The overlapping area (intersection) would include 2 and 3, representing elements common to both sets."
   ]
  },
  {
   "cell_type": "code",
   "execution_count": null,
   "id": "8be72a2a",
   "metadata": {},
   "outputs": [],
   "source": [
    "Q7. For the two given sets A = (2,3,4,5,6,7) & B = (0,2,6,8,10). Find:\n",
    "(i) A n B\n",
    "(ii) A ⋃ B"
   ]
  },
  {
   "cell_type": "code",
   "execution_count": null,
   "id": "8def3242",
   "metadata": {},
   "outputs": [],
   "source": [
    "Intersection:{2, 6}\n",
    "Union:{0, 2, 3, 4, 5, 6, 7, 8, 10}"
   ]
  },
  {
   "cell_type": "code",
   "execution_count": null,
   "id": "400bf1e2",
   "metadata": {},
   "outputs": [],
   "source": [
    "Q8. What do you understand about skewness in data?"
   ]
  },
  {
   "cell_type": "code",
   "execution_count": null,
   "id": "ad49f8f3",
   "metadata": {},
   "outputs": [],
   "source": [
    "Skewness is a statistical measure that describes the asymmetry of a distribution. It indicates how much and in what \n",
    "direction a dataset deviates from a normal distribution (which is perfectly symmetrical).\n",
    "\n",
    "Types of Skewness:\n",
    "   - Positive Skew (Right Skew): The right tail (higher values) of the distribution is longer or fatter than the left \n",
    "tail. This means that the majority of data points are concentrated on the left side, while a few larger values stretch \n",
    "the tail to the right.\n",
    "     - Example: Income distribution in a population, where most people earn less, and a few earn significantly more.\n",
    "   - Negative Skew (Left Skew): The left tail (lower values) of the distribution is longer or fatter than the right \n",
    "tail. Here, most data points are concentrated on the right side, with a few lower values stretching the tail to the left.\n",
    "     - Example: Age at retirement, where most people retire at a similar age but some may retire much earlier.\n",
    "   - Symmetrical Distribution: When a distribution is perfectly symmetrical (like a normal distribution), it has a \n",
    "skewness of zero."
   ]
  },
  {
   "cell_type": "code",
   "execution_count": null,
   "id": "4b5091f6",
   "metadata": {},
   "outputs": [],
   "source": [
    "Q9. If a data is right skewed then what will be the position of median with respect to mean?"
   ]
  },
  {
   "cell_type": "code",
   "execution_count": null,
   "id": "31e4959c",
   "metadata": {},
   "outputs": [],
   "source": [
    "In a right-skewed distribution (positive skew), the mean is typically greater than the median. \n",
    "- Right Skewed (Positive Skew): In this type of distribution, the tail on the right side (higher values) is longer or \n",
    "fatter than the left side. This indicates that there are some unusually high values that pull the mean upwards.\n",
    "  \n",
    "- Positioning of Mean and Median:\n",
    "  - The mean is affected by these high values and is pulled to the right, resulting in a higher value.\n",
    "  - The median, which represents the middle value of the dataset, remains relatively unaffected by extreme values and \n",
    "is typically located to the left of the mean."
   ]
  },
  {
   "cell_type": "code",
   "execution_count": null,
   "id": "b3677f6a",
   "metadata": {},
   "outputs": [],
   "source": [
    "Q10. Explain the difference between covariance and correlation. How are these measures used in statistical analysis?"
   ]
  },
  {
   "cell_type": "code",
   "execution_count": null,
   "id": "1ff2e561",
   "metadata": {},
   "outputs": [],
   "source": [
    "1. Covariance\n",
    "- Definition: Covariance measures the degree to which two variables change together. If the variables tend to \n",
    "increase and decrease together, the covariance is positive; if one variable increases while the other decreases, the \n",
    "covariance is negative.\n",
    "\n",
    "2. Correlation\n",
    "- Definition: Correlation is a standardized measure of the relationship between two variables, providing both direction\n",
    "and strength. The most common measure is the Pearson correlation coefficient.\n",
    "\n",
    "Key Differences\n",
    "| Feature            | Covariance                          | Correlation                                  |\n",
    "|--------------------|-------------------------------------|----------------------------------------------|\n",
    "| Scale              | Not standardized (units of X and Y) | Standardized (unitless, ranges from -1 to 1) |\n",
    "| Interpretation     | Direction of relationship only      | Direction and strength of relationship       |\n",
    "| Sensitivity        | Sensitive to scale of variables     | Less sensitive, easier to interpret          |"
   ]
  },
  {
   "cell_type": "code",
   "execution_count": null,
   "id": "c542537f",
   "metadata": {},
   "outputs": [],
   "source": [
    "Q11. What is the formula for calculating the sample mean? Provide an example calculation for a dataset."
   ]
  },
  {
   "cell_type": "code",
   "execution_count": null,
   "id": "183b7988",
   "metadata": {},
   "outputs": [],
   "source": [
    "The formula for calculating the sample mean (often denoted as \\(\\bar{x}\\)) is:\n",
    "\n",
    "\\[\n",
    "\\bar{x} = \\frac{\\sum_{i=1}^{n} x_i}{n}\n",
    "\\]\n",
    "\n",
    "where:\n",
    "- \\(\\bar{x}\\) is the sample mean,\n",
    "- \\(x_i\\) represents each individual observation in the dataset,\n",
    "- \\(n\\) is the number of observations in the sample.\n",
    "\n",
    "Example Calculation\n",
    "\n",
    "Let's say we have the following dataset representing test scores:\n",
    "- \\( \\{85, 90, 78, 92, 88\\} \\)\n",
    "\n",
    "Step 1: Calculate the Sum of the Observations\n",
    "\n",
    "\\[\n",
    "\\sum_{i=1}^{n} x_i = 85 + 90 + 78 + 92 + 88 = 433\n",
    "\\]\n",
    "\n",
    "Step 2: Count the Number of Observations\n",
    "\n",
    "In this dataset, \\(n = 5\\).\n",
    "\n",
    "Step 3: Calculate the Sample Mean\n",
    "\n",
    "\\[\n",
    "\\bar{x} = \\frac{433}{5} = 86.6\n",
    "\\]"
   ]
  },
  {
   "cell_type": "code",
   "execution_count": null,
   "id": "46fb28ad",
   "metadata": {},
   "outputs": [],
   "source": [
    "Q12. For a normal distribution data what is the relationship between its measure of central tendency?"
   ]
  },
  {
   "cell_type": "code",
   "execution_count": null,
   "id": "40e7d299",
   "metadata": {},
   "outputs": [],
   "source": [
    "In a normal distribution, the measures of central tendency—mean, median, and mode—are all equal. This means:\n",
    "- Mean: The average of the data points.\n",
    "- Median: The middle value when the data points are arranged in ascending order.\n",
    "- Mode: The value that appears most frequently in the dataset.\n",
    "\n",
    "Relationship in Normal Distribution:\n",
    "1. Equal Values: For a perfectly normal distribution:\n",
    "   \\[\n",
    "   \\text{Mean} = \\text{Median} = \\text{Mode}\n",
    "   \\]\n",
    "2. Symmetry: The normal distribution is symmetric around the mean. This symmetry implies that half of the data points \n",
    "lie below the mean (and median) and half lie above.\n",
    "3. Graphical Representation**: In a normal distribution curve (bell-shaped), the peak of the curve is at the mean, \n",
    "median, and mode, illustrating their equality."
   ]
  },
  {
   "cell_type": "code",
   "execution_count": null,
   "id": "fcce6b71",
   "metadata": {},
   "outputs": [],
   "source": [
    "Q13. How is covariance different from correlation?"
   ]
  },
  {
   "cell_type": "code",
   "execution_count": null,
   "id": "9632667d",
   "metadata": {},
   "outputs": [],
   "source": [
    "Covariance and correlation are both measures that describe the relationship between two variables, but they have key \n",
    "differences:\n",
    "\n",
    "| Feature            | Covariance                          | Correlation                                           |\n",
    "|--------------------|-------------------------------------|-------------------------------------------------------|\n",
    "| Scale              | Not standardized (any range)        | Standardized (between -1 and 1)                       |\n",
    "| Interpretation     | Direction only                      | Direction and strength                                |\n",
    "| Sensitivity        | Sensitive to scale of variables     | Less sensitive, easier to interpret                   |\n",
    "| Calculation        | Based on mean deviations            | Based on covariance normalized by standard deviations |"
   ]
  },
  {
   "cell_type": "code",
   "execution_count": null,
   "id": "2002b5d1",
   "metadata": {},
   "outputs": [],
   "source": [
    "Q14. How do outliers affect measures of central tendency and dispersion? Provide an example."
   ]
  },
  {
   "cell_type": "code",
   "execution_count": null,
   "id": "71adf777",
   "metadata": {},
   "outputs": [],
   "source": [
    "Outliers are data points that differ significantly from other observations in a dataset. They can have a considerable \n",
    "impact on measures of central tendency (mean, median, and mode) and measures of dispersion (range, variance, and \n",
    "standard deviation). Here’s how they affect these measures:\n",
    "\n",
    "Effects on Measures of Central Tendency\n",
    "1. Mean:\n",
    "   - Effect: The mean is sensitive to outliers. A single extreme value can significantly skew the mean, pulling it \n",
    "away from the center of the majority of the data.\n",
    "   - Example: Consider the dataset: [10, 12, 14, 14, 15, 16, 100]\n",
    "     - Mean = {10 + 12 + 14 + 14 + 15 + 16 + 100}/{7} = {181}/{7} = approx 25.86)\n",
    "     - Without the outlier (100): [10, 12, 14, 14, 15, 16]\n",
    "     - New Mean = ({81}/{6} = 13.5)\n",
    "     - Here, the mean is heavily influenced by the outlier (100).\n",
    "\n",
    "2. Median:\n",
    "   - Effect: The median is less affected by outliers since it is the middle value when the data is ordered. \n",
    "Even if an extreme value is present, the median remains in the center.\n",
    "   - Example: Using the same dataset: [10, 12, 14, 14, 15, 16, 100]\n",
    "     - Ordered: [10, 12, 14, 14, 15, 16, 100]\n",
    "     - Median = 14 (the fourth value).\n",
    "     - Without the outlier: [10, 12, 14, 14, 15, 16]\n",
    "     - New Median = 14 (remains unchanged).\n",
    "\n",
    "3. Mode:\n",
    "   - Effect: The mode (the most frequently occurring value) is generally unaffected by outliers, as it focuses on \n",
    "frequency rather than value.\n",
    "   - Example: In the dataset \\[10, 12, 14, 14, 15, 16, 100\\], the mode is 14. The presence of the outlier does not \n",
    "change this.\n",
    "\n",
    "Effects on Measures of Dispersion\n",
    "\n",
    "1. Range:\n",
    "   - Effect: The range is directly affected by outliers, as it is calculated as the difference between the maximum \n",
    "and minimum values. An outlier can greatly increase the range.\n",
    "   - Example: [10, 12, 14, 14, 15, 16, 100]\n",
    "     - Range = (100 - 10 = 90)\n",
    "     - Without the outlier: [10, 12, 14, 14, 15, 16]\n",
    "     - New Range = (16 - 10 = 6)\n",
    "\n",
    "2. Variance and Standard Deviation:\n",
    "   - Effect: Both variance and standard deviation are affected by outliers because they involve the squared differences\n",
    "from the mean. An outlier increases the average of these squared differences, leading to a higher variance and standard \n",
    "deviation.\n",
    "   - Example: In the same dataset \\[10, 12, 14, 14, 15, 16, 100\\], the standard deviation will be much larger due to \n",
    "the presence of the outlier (100). Without the outlier, the standard deviation will be much smaller"
   ]
  }
 ],
 "metadata": {
  "kernelspec": {
   "display_name": "Python 3 (ipykernel)",
   "language": "python",
   "name": "python3"
  },
  "language_info": {
   "codemirror_mode": {
    "name": "ipython",
    "version": 3
   },
   "file_extension": ".py",
   "mimetype": "text/x-python",
   "name": "python",
   "nbconvert_exporter": "python",
   "pygments_lexer": "ipython3",
   "version": "3.11.5"
  }
 },
 "nbformat": 4,
 "nbformat_minor": 5
}
