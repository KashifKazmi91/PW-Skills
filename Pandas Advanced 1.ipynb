{
 "cells": [
  {
   "cell_type": "code",
   "execution_count": null,
   "id": "b67a80fc",
   "metadata": {},
   "outputs": [],
   "source": [
    "Q1. List any five functions of the pandas library with execution."
   ]
  },
  {
   "cell_type": "code",
   "execution_count": null,
   "id": "5252c06e",
   "metadata": {},
   "outputs": [],
   "source": [
    "import pandas as pd\n",
    "\n",
    "# Read a CSV file\n",
    "df = pd.read_csv('data.csv')\n",
    "print(df.head())"
   ]
  },
  {
   "cell_type": "code",
   "execution_count": null,
   "id": "8916b2b3",
   "metadata": {},
   "outputs": [],
   "source": [
    "data = {\n",
    "    'Name': ['Alice', 'Bob', 'Charlie'],\n",
    "    'Age': [25, 30, 35],\n",
    "    'City': ['New York', 'Los Angeles', 'Chicago']\n",
    "}\n",
    "\n",
    "df = pd.DataFrame(data)\n",
    "print(df)"
   ]
  },
  {
   "cell_type": "code",
   "execution_count": null,
   "id": "3481c349",
   "metadata": {},
   "outputs": [],
   "source": [
    "# Filter DataFrame where Age is greater than 28\n",
    "filtered_df = df[df['Age'] > 28]\n",
    "print(filtered_df)"
   ]
  },
  {
   "cell_type": "code",
   "execution_count": null,
   "id": "964b2b9b",
   "metadata": {},
   "outputs": [],
   "source": [
    "# Group by 'City' and get the mean age\n",
    "grouped_df = df.groupby('City')['Age'].mean()\n",
    "print(grouped_df)"
   ]
  },
  {
   "cell_type": "code",
   "execution_count": null,
   "id": "a266edb4",
   "metadata": {},
   "outputs": [],
   "source": [
    "# Write DataFrame to a CSV file\n",
    "df.to_csv('output.csv', index=False)"
   ]
  },
  {
   "cell_type": "code",
   "execution_count": null,
   "id": "a5177651",
   "metadata": {},
   "outputs": [],
   "source": [
    "Q2. Given a Pandas DataFrame df with columns 'A', 'B', and 'C', write a Python function to re-index the\n",
    "DataFrame with a new index that starts from 1 and increments by 2 for each row."
   ]
  },
  {
   "cell_type": "code",
   "execution_count": null,
   "id": "987e5fba",
   "metadata": {},
   "outputs": [],
   "source": [
    "import pandas as pd\n",
    "\n",
    "def reindex_dataframe(df):\n",
    "    # Create a new index that starts from 1 and increments by 2\n",
    "    new_index = range(1, 2 * len(df), 2)\n",
    "    # Re-index the DataFrame\n",
    "    df_reindexed = df.set_index(pd.Index(new_index))\n",
    "    return df_reindexed\n",
    "\n",
    "# Example usage\n",
    "data = {\n",
    "    'A': [1, 2, 3],\n",
    "    'B': [4, 5, 6],\n",
    "    'C': [7, 8, 9]\n",
    "}\n",
    "\n",
    "df = pd.DataFrame(data)\n",
    "print(\"Original DataFrame:\")\n",
    "print(df)\n",
    "\n",
    "reindexed_df = reindex_dataframe(df)\n",
    "print(\"\\nRe-indexed DataFrame:\")\n",
    "print(reindexed_df)"
   ]
  },
  {
   "cell_type": "code",
   "execution_count": null,
   "id": "1f7b5a63",
   "metadata": {},
   "outputs": [],
   "source": [
    "Q3. You have a Pandas DataFrame df with a column named 'Values'. Write a Python function that\n",
    "iterates over the DataFrame and calculates the sum of the first three values in the 'Values' column. The\n",
    "function should print the sum to the console.\n",
    "For example, if the 'Values' column of df contains the values [10, 20, 30, 40, 50], your function should\n",
    "calculate and print the sum of the first three values, which is 60."
   ]
  },
  {
   "cell_type": "code",
   "execution_count": null,
   "id": "83894c84",
   "metadata": {},
   "outputs": [],
   "source": [
    "import pandas as pd\n",
    "\n",
    "def sum_first_three_values(df):\n",
    "    # Check if the DataFrame has at least three rows\n",
    "    if len(df) < 3:\n",
    "        print(\"DataFrame must have at least three values.\")\n",
    "        return\n",
    "    \n",
    "    # Calculate the sum of the first three values in the 'Values' column\n",
    "    total = df['Values'].iloc[:3].sum()\n",
    "    \n",
    "    # Print the sum\n",
    "    print(\"Sum of the first three values:\", total)\n",
    "\n",
    "# Example usage\n",
    "data = {\n",
    "    'Values': [10, 20, 30, 40, 50]\n",
    "}\n",
    "\n",
    "df = pd.DataFrame(data)\n",
    "sum_first_three_values(df)"
   ]
  },
  {
   "cell_type": "code",
   "execution_count": null,
   "id": "8e50823a",
   "metadata": {},
   "outputs": [],
   "source": [
    "Q4. Given a Pandas DataFrame df with a column 'Text', write a Python function to create a new column\n",
    "'Word_Count' that contains the number of words in each row of the 'Text' column."
   ]
  },
  {
   "cell_type": "code",
   "execution_count": null,
   "id": "034c4333",
   "metadata": {},
   "outputs": [],
   "source": [
    "import pandas as pd\n",
    "\n",
    "def add_word_count(df):\n",
    "    # Define a function to count words in a text string\n",
    "    def count_words(text):\n",
    "        if isinstance(text, str):  # Check if the text is a string\n",
    "            return len(text.split())\n",
    "        return 0  # Return 0 if it's not a string\n",
    "\n",
    "    # Apply the count_words function to the 'Text' column and create a new 'Word_Count' column\n",
    "    df['Word_Count'] = df['Text'].apply(count_words)\n",
    "    \n",
    "    return df\n",
    "\n",
    "# Example usage\n",
    "data = {\n",
    "    'Text': [\n",
    "        \"This is the first sentence.\",\n",
    "        \"Here is another one.\",\n",
    "        \"Short.\",\n",
    "        \"This is a longer sentence with more words.\"\n",
    "    ]\n",
    "}\n",
    "\n",
    "df = pd.DataFrame(data)\n",
    "df_with_word_count = add_word_count(df)\n",
    "\n",
    "print(df_with_word_count)"
   ]
  },
  {
   "cell_type": "code",
   "execution_count": null,
   "id": "e8484074",
   "metadata": {},
   "outputs": [],
   "source": [
    "Q5. How are DataFrame.size() and DataFrame.shape() different?"
   ]
  },
  {
   "cell_type": "code",
   "execution_count": null,
   "id": "55bfbf6e",
   "metadata": {},
   "outputs": [],
   "source": [
    "DataFrame.size\n",
    "Definition: Returns the total number of elements in the DataFrame.\n",
    "Output: It is an integer value that represents the product of the number of rows and the number of columns.\n",
    "Usage: Useful for quickly checking how many total data points are in the DataFrame."
   ]
  },
  {
   "cell_type": "code",
   "execution_count": null,
   "id": "a7106674",
   "metadata": {},
   "outputs": [],
   "source": [
    "import pandas as pd\n",
    "\n",
    "data = {\n",
    "    'A': [1, 2, 3],\n",
    "    'B': [4, 5, 6]\n",
    "}\n",
    "\n",
    "df = pd.DataFrame(data)\n",
    "print(df.size)  # Output: 6 (3 rows * 2 columns)"
   ]
  },
  {
   "cell_type": "code",
   "execution_count": null,
   "id": "63a71463",
   "metadata": {},
   "outputs": [],
   "source": [
    "DataFrame.shape\n",
    "Definition: Returns a tuple representing the dimensions of the DataFrame.\n",
    "Output: A tuple of the form (number_of_rows, number_of_columns).\n",
    "Usage: Useful for understanding the structure of the DataFrame, particularly the number of rows and columns separately."
   ]
  },
  {
   "cell_type": "code",
   "execution_count": null,
   "id": "4d4e2736",
   "metadata": {},
   "outputs": [],
   "source": [
    "print(df.shape)  # Output: (3, 2) (3 rows, 2 columns)"
   ]
  },
  {
   "cell_type": "code",
   "execution_count": null,
   "id": "b39ca1ce",
   "metadata": {},
   "outputs": [],
   "source": [
    "Q6. Which function of pandas do we use to read an excel file?"
   ]
  },
  {
   "cell_type": "code",
   "execution_count": null,
   "id": "d9e1f47f",
   "metadata": {},
   "outputs": [],
   "source": [
    "import pandas as pd\n",
    "\n",
    "# Read an Excel file\n",
    "df = pd.read_excel('file.xlsx', sheet_name='Sheet1')\n",
    "\n",
    "# Display the first few rows of the DataFrame\n",
    "print(df.head())"
   ]
  },
  {
   "cell_type": "code",
   "execution_count": null,
   "id": "d0db401d",
   "metadata": {},
   "outputs": [],
   "source": [
    "Q7. You have a Pandas DataFrame df that contains a column named 'Email' that contains email addresses in the format \n",
    "'username@domain.com'. Write a Python function that creates a new column 'Username' in df that contains only the \n",
    "username part of each email address. The username is the part of the email address that appears before the '@' symbol.\n",
    "For example, if the email address is 'john.doe@example.com', the 'Username' column should contain 'john.doe'. Your\n",
    "function should extract the username from each email address and store it in the new 'Username' column."
   ]
  },
  {
   "cell_type": "code",
   "execution_count": null,
   "id": "b08deb83",
   "metadata": {},
   "outputs": [],
   "source": [
    "import pandas as pd\n",
    "\n",
    "def extract_username(df):\n",
    "    # Define a function to get the username from the email\n",
    "    def get_username(email):\n",
    "        if isinstance(email, str) and '@' in email:\n",
    "            return email.split('@')[0]\n",
    "        return None  # Return None if it's not a valid email\n",
    "\n",
    "    # Apply the get_username function to the 'Email' column\n",
    "    df['Username'] = df['Email'].apply(get_username)\n",
    "    \n",
    "    return df\n",
    "\n",
    "# Example usage\n",
    "data = {\n",
    "    'Email': [\n",
    "        'john.doe@example.com',\n",
    "        'jane.smith@domain.com',\n",
    "        'user123@website.org'\n",
    "    ]\n",
    "}\n",
    "\n",
    "df = pd.DataFrame(data)\n",
    "df_with_username = extract_username(df)\n",
    "\n",
    "print(df_with_username)"
   ]
  },
  {
   "cell_type": "code",
   "execution_count": null,
   "id": "5a9b49ba",
   "metadata": {},
   "outputs": [],
   "source": [
    "Q8. You have a Pandas DataFrame df with columns 'A', 'B', and 'C'. Write a Python function that selects\n",
    "all rows where the value in column 'A' is greater than 5 and the value in column 'B' is less than 10. The\n",
    "function should return a new DataFrame that contains only the selected rows.\n",
    "For example, if df contains the following values:\n",
    "A B C\n",
    "0 3 5 1\n",
    "1 8 2 7\n",
    "2 6 9 4\n",
    "3 2 3 5\n",
    "4 9 1 2\n",
    "\n",
    "Your function should select the following rows: A B C\n",
    "1 8 2 7\n",
    "4 9 1 2\n",
    "The function should return a new DataFrame that contains only the selected rows."
   ]
  },
  {
   "cell_type": "code",
   "execution_count": null,
   "id": "dd1a602a",
   "metadata": {},
   "outputs": [],
   "source": [
    "import pandas as pd\n",
    "\n",
    "def filter_dataframe(df):\n",
    "    # Select rows where column 'A' is greater than 5 and column 'B' is less than 10\n",
    "    filtered_df = df[(df['A'] > 5) & (df['B'] < 10)]\n",
    "    \n",
    "    return filtered_df\n",
    "\n",
    "# Example usage\n",
    "data = {\n",
    "    'A': [3, 8, 6, 2, 9],\n",
    "    'B': [5, 2, 9, 3, 1],\n",
    "    'C': [1, 7, 4, 5, 2]\n",
    "}\n",
    "\n",
    "df = pd.DataFrame(data)\n",
    "result_df = filter_dataframe(df)\n",
    "\n",
    "print(result_df)"
   ]
  },
  {
   "cell_type": "code",
   "execution_count": null,
   "id": "473fc36d",
   "metadata": {},
   "outputs": [],
   "source": [
    "Q9. Given a Pandas DataFrame df with a column 'Values', write a Python function to calculate the mean,\n",
    "median, and standard deviation of the values in the 'Values' column."
   ]
  },
  {
   "cell_type": "code",
   "execution_count": null,
   "id": "89d5788c",
   "metadata": {},
   "outputs": [],
   "source": [
    "import pandas as pd\n",
    "\n",
    "def calculate_statistics(df):\n",
    "    # Check if the 'Values' column exists in the DataFrame\n",
    "    if 'Values' not in df.columns:\n",
    "        raise ValueError(\"The DataFrame must contain a 'Values' column.\")\n",
    "    \n",
    "    # Calculate mean, median, and standard deviation\n",
    "    mean_value = df['Values'].mean()\n",
    "    median_value = df['Values'].median()\n",
    "    std_dev_value = df['Values'].std()\n",
    "\n",
    "    # Create a dictionary to store the results\n",
    "    statistics = {\n",
    "        'Mean': mean_value,\n",
    "        'Median': median_value,\n",
    "        'Standard Deviation': std_dev_value\n",
    "    }\n",
    "    \n",
    "    return statistics\n",
    "\n",
    "# Example usage\n",
    "data = {\n",
    "    'Values': [10, 20, 30, 40, 50]\n",
    "}\n",
    "\n",
    "df = pd.DataFrame(data)\n",
    "stats = calculate_statistics(df)\n",
    "\n",
    "print(stats)"
   ]
  },
  {
   "cell_type": "code",
   "execution_count": null,
   "id": "7019aa68",
   "metadata": {},
   "outputs": [],
   "source": [
    "Q10. Given a Pandas DataFrame df with a column 'Sales' and a column 'Date', write a Python function to\n",
    "create a new column 'MovingAverage' that contains the moving average of the sales for the past 7 days\n",
    "for each row in the DataFrame. The moving average should be calculated using a window of size 7 and\n",
    "should include the current day."
   ]
  },
  {
   "cell_type": "code",
   "execution_count": null,
   "id": "030532a1",
   "metadata": {},
   "outputs": [],
   "source": [
    "import pandas as pd\n",
    "\n",
    "def calculate_moving_average(df):\n",
    "    # Ensure the 'Date' column is in datetime format\n",
    "    df['Date'] = pd.to_datetime(df['Date'])\n",
    "    \n",
    "    # Sort the DataFrame by date\n",
    "    df = df.sort_values('Date')\n",
    "\n",
    "    # Set the 'Date' column as the index\n",
    "    df.set_index('Date', inplace=True)\n",
    "\n",
    "    # Calculate the moving average for the past 7 days\n",
    "    df['MovingAverage'] = df['Sales'].rolling(window=7).mean()\n",
    "\n",
    "    # Reset index to return to the original DataFrame structure\n",
    "    df.reset_index(inplace=True)\n",
    "\n",
    "    return df\n",
    "\n",
    "# Example usage\n",
    "data = {\n",
    "    'Date': [\n",
    "        '2024-01-01', '2024-01-02', '2024-01-03',\n",
    "        '2024-01-04', '2024-01-05', '2024-01-06',\n",
    "        '2024-01-07', '2024-01-08', '2024-01-09'\n",
    "    ],\n",
    "    'Sales': [100, 200, 150, 300, 250, 400, 350, 500, 450]\n",
    "}\n",
    "\n",
    "df = pd.DataFrame(data)\n",
    "df_with_moving_average = calculate_moving_average(df)\n",
    "\n",
    "print(df_with_moving_average)"
   ]
  },
  {
   "cell_type": "code",
   "execution_count": null,
   "id": "6e8e4325",
   "metadata": {},
   "outputs": [],
   "source": [
    "Q11. You have a Pandas DataFrame df with a column 'Date'. Write a Python function that creates a new\n",
    "column 'Weekday' in the DataFrame. The 'Weekday' column should contain the weekday name (e.g.\n",
    "Monday, Tuesday) corresponding to each date in the 'Date' column.\n",
    "For example, if df contains the following values:\n",
    "Date\n",
    "0 2023-01-01\n",
    "1 2023-01-02\n",
    "2 2023-01-03\n",
    "3 2023-01-04\n",
    "4 2023-01-05\n",
    "Your function should create the following DataFrame:\n",
    "\n",
    "Date Weekday\n",
    "0 2023-01-01 Sunday\n",
    "1 2023-01-02 Monday\n",
    "2 2023-01-03 Tuesday\n",
    "3 2023-01-04 Wednesday\n",
    "4 2023-01-05 Thursday\n",
    "The function should return the modified DataFrame."
   ]
  },
  {
   "cell_type": "code",
   "execution_count": null,
   "id": "e268439e",
   "metadata": {},
   "outputs": [],
   "source": [
    "import pandas as pd\n",
    "\n",
    "def add_weekday_column(df):\n",
    "    # Ensure the 'Date' column is in datetime format\n",
    "    df['Date'] = pd.to_datetime(df['Date'])\n",
    "    \n",
    "    # Create a new column 'Weekday' by extracting the weekday name\n",
    "    df['Weekday'] = df['Date'].dt.day_name()\n",
    "    \n",
    "    return df\n",
    "\n",
    "# Example usage\n",
    "data = {\n",
    "    'Date': [\n",
    "        '2023-01-01',\n",
    "        '2023-01-02',\n",
    "        '2023-01-03',\n",
    "        '2023-01-04',\n",
    "        '2023-01-05'\n",
    "    ]\n",
    "}\n",
    "\n",
    "df = pd.DataFrame(data)\n",
    "df_with_weekday = add_weekday_column(df)\n",
    "\n",
    "print(df_with_weekday)"
   ]
  },
  {
   "cell_type": "code",
   "execution_count": null,
   "id": "89033a37",
   "metadata": {},
   "outputs": [],
   "source": [
    "Q12. Given a Pandas DataFrame df with a column 'Date' that contains timestamps, write a Python\n",
    "function to select all rows where the date is between '2023-01-01' and '2023-01-31'."
   ]
  },
  {
   "cell_type": "code",
   "execution_count": null,
   "id": "62ddffc8",
   "metadata": {},
   "outputs": [],
   "source": [
    "import pandas as pd\n",
    "\n",
    "def filter_dates(df):\n",
    "    # Ensure the 'Date' column is in datetime format\n",
    "    df['Date'] = pd.to_datetime(df['Date'])\n",
    "    \n",
    "    # Define the date range\n",
    "    start_date = '2023-01-01'\n",
    "    end_date = '2023-01-31'\n",
    "    \n",
    "    # Filter the DataFrame for dates within the specified range\n",
    "    filtered_df = df[(df['Date'] >= start_date) & (df['Date'] <= end_date)]\n",
    "    \n",
    "    return filtered_df\n",
    "\n",
    "# Example usage\n",
    "data = {\n",
    "    'Date': [\n",
    "        '2022-12-31',\n",
    "        '2023-01-01',\n",
    "        '2023-01-15',\n",
    "        '2023-01-31',\n",
    "        '2023-02-01'\n",
    "    ]\n",
    "}\n",
    "\n",
    "df = pd.DataFrame(data)\n",
    "filtered_df = filter_dates(df)\n",
    "\n",
    "print(filtered_df)"
   ]
  },
  {
   "cell_type": "code",
   "execution_count": null,
   "id": "f409c729",
   "metadata": {},
   "outputs": [],
   "source": [
    "Q13. To use the basic functions of pandas, what is the first and foremost necessary library that needs to\n",
    "be imported?"
   ]
  },
  {
   "cell_type": "code",
   "execution_count": null,
   "id": "3c8c5e75",
   "metadata": {},
   "outputs": [],
   "source": [
    "import pandas as pd"
   ]
  }
 ],
 "metadata": {
  "kernelspec": {
   "display_name": "Python 3 (ipykernel)",
   "language": "python",
   "name": "python3"
  },
  "language_info": {
   "codemirror_mode": {
    "name": "ipython",
    "version": 3
   },
   "file_extension": ".py",
   "mimetype": "text/x-python",
   "name": "python",
   "nbconvert_exporter": "python",
   "pygments_lexer": "ipython3",
   "version": "3.11.5"
  }
 },
 "nbformat": 4,
 "nbformat_minor": 5
}
