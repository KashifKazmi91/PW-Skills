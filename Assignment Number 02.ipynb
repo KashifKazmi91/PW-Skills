{
 "cells": [
  {
   "cell_type": "markdown",
   "id": "484a096c",
   "metadata": {},
   "source": [
    "Q1. How do you comment code in Python? What are the different types of comments?"
   ]
  },
  {
   "cell_type": "code",
   "execution_count": 1,
   "id": "6a7ca48b",
   "metadata": {},
   "outputs": [
    {
     "name": "stdout",
     "output_type": "stream",
     "text": [
      "Hello, World!\n"
     ]
    },
    {
     "data": {
      "text/plain": [
       "\"\\nThis is a\\nmulti-line\\ncomment using triple quotes.\\nIt's often used for docstrings, which are special comments used for documentation.\\n\""
      ]
     },
     "execution_count": 1,
     "metadata": {},
     "output_type": "execute_result"
    }
   ],
   "source": [
    "# This is a single-line comment\n",
    "\n",
    "print(\"Hello, World!\")  # This is an inline comment\n",
    "\n",
    "# You can also use comments to temporarily disable code\n",
    "# print(\"This line won't be executed\")\n",
    "\n",
    "\"\"\"\n",
    "This is a\n",
    "multi-line\n",
    "comment using triple quotes.\n",
    "It's often used for docstrings, which are special comments used for documentation.\n",
    "\"\"\""
   ]
  },
  {
   "cell_type": "markdown",
   "id": "2b0e01fa",
   "metadata": {},
   "source": [
    "Q2. What are variables in Python? How do you declare and assign values to variables?"
   ]
  },
  {
   "cell_type": "code",
   "execution_count": 2,
   "id": "ced41697",
   "metadata": {},
   "outputs": [
    {
     "name": "stdout",
     "output_type": "stream",
     "text": [
      "20\n",
      "Hello, Python!\n",
      "5 3.2 Hi\n",
      "25\n",
      "Hello, Python! Welcome!\n"
     ]
    }
   ],
   "source": [
    "# Variable declaration and assignment\n",
    "x = 10\n",
    "y = \"Hello, Python!\"\n",
    "\n",
    "# You can also assign multiple variables in a single line\n",
    "a, b, c = 5, 3.2, \"Hi\"\n",
    "\n",
    "# Variable reassignment\n",
    "x = 20\n",
    "\n",
    "# Variables can be used in expressions\n",
    "sum_result = a + x\n",
    "concatenated_string = y + \" Welcome!\"\n",
    "\n",
    "# Printing variables\n",
    "print(x)\n",
    "print(y)\n",
    "print(a, b, c)\n",
    "print(sum_result)\n",
    "print(concatenated_string)"
   ]
  },
  {
   "cell_type": "markdown",
   "id": "b3616fb5",
   "metadata": {},
   "source": [
    "Q3. How do you convert one data type to another in Python?"
   ]
  },
  {
   "cell_type": "code",
   "execution_count": 3,
   "id": "4761f2c0",
   "metadata": {},
   "outputs": [
    {
     "name": "stdout",
     "output_type": "stream",
     "text": [
      "13.5\n",
      "5.6 5 5\n",
      "42 42.0 42\n"
     ]
    }
   ],
   "source": [
    "#implicit type conversion\n",
    "x = 10    # integer\n",
    "y = 3.5   # float\n",
    "result = x + y\n",
    "print(result)\n",
    "\n",
    "# Explicit type conversion\n",
    "a = 5.6\n",
    "b = int(a)\n",
    "c = str(b)\n",
    "print(a, b, c)\n",
    "\n",
    "# Using constructor functions\n",
    "x = 42\n",
    "y = float(x)\n",
    "z = str(x)\n",
    "print(x, y, z)"
   ]
  },
  {
   "cell_type": "markdown",
   "id": "13746cbb",
   "metadata": {},
   "source": [
    "Q4. How do you write and execute a Python script from the command line?"
   ]
  },
  {
   "cell_type": "code",
   "execution_count": 4,
   "id": "932fefb5",
   "metadata": {},
   "outputs": [
    {
     "name": "stdout",
     "output_type": "stream",
     "text": [
      "Hello, World!\n"
     ]
    }
   ],
   "source": [
    "# hello_world.py\n",
    "print(\"Hello, World!\")"
   ]
  },
  {
   "cell_type": "markdown",
   "id": "54888d00",
   "metadata": {},
   "source": [
    "Q5. Given a list my_list = [1, 2, 3, 4, 5], write the code to slice the list and obtain the sub-list [2, 3]."
   ]
  },
  {
   "cell_type": "code",
   "execution_count": 5,
   "id": "b56e8be2",
   "metadata": {},
   "outputs": [
    {
     "name": "stdout",
     "output_type": "stream",
     "text": [
      "[2, 3]\n"
     ]
    }
   ],
   "source": [
    "my_list = [1, 2, 3, 4, 5]\n",
    "\n",
    "# Slice the list to obtain [2, 3]\n",
    "sub_list = my_list[1:3]\n",
    "\n",
    "print(sub_list)"
   ]
  },
  {
   "cell_type": "markdown",
   "id": "9ca577bf",
   "metadata": {},
   "source": [
    "Q6. What is a complex number in mathematics, and how is it represented in Python?"
   ]
  },
  {
   "cell_type": "code",
   "execution_count": 6,
   "id": "691aaf7d",
   "metadata": {},
   "outputs": [
    {
     "name": "stdout",
     "output_type": "stream",
     "text": [
      "(2+3j)\n",
      "(-1+1j)\n",
      "(1+2j)\n",
      "(-3-4j)\n",
      "(1+4j)\n",
      "(5-10j)\n"
     ]
    }
   ],
   "source": [
    "# Using complex() constructor\n",
    "z1 = complex(2, 3)   # 2 + 3i\n",
    "z2 = complex(-1, 1)  # -1 + i\n",
    "print(z1)\n",
    "print(z2)\n",
    "\n",
    "# Using j suffix for imaginary part\n",
    "z3 = 1 + 2j   # 1 + 2i\n",
    "z4 = -3 - 4j  # -3 - 4i\n",
    "print(z3)\n",
    "print(z4)\n",
    "\n",
    "# Operations with complex numbers\n",
    "result_add = z1 + z2\n",
    "result_multiply = z3 * z4\n",
    "print(result_add)\n",
    "print(result_multiply)"
   ]
  },
  {
   "cell_type": "markdown",
   "id": "e22c3105",
   "metadata": {},
   "source": [
    "Q7. What is the correct way to declare a variable named age and assign the value 25 to it?"
   ]
  },
  {
   "cell_type": "code",
   "execution_count": null,
   "id": "abe6ab51",
   "metadata": {},
   "outputs": [],
   "source": [
    "age = 25"
   ]
  },
  {
   "cell_type": "markdown",
   "id": "922b7211",
   "metadata": {},
   "source": [
    "Q8. Declare a variable named price and assign the value 9.99 to it. What data type does this variable belong to?"
   ]
  },
  {
   "cell_type": "code",
   "execution_count": null,
   "id": "d9531648",
   "metadata": {},
   "outputs": [],
   "source": [
    "price = 9.99"
   ]
  },
  {
   "cell_type": "markdown",
   "id": "1c061ef8",
   "metadata": {},
   "source": [
    "Q9. Create a variable named name and assign your full name to it as a string. How would you print the value of this variable?"
   ]
  },
  {
   "cell_type": "code",
   "execution_count": 8,
   "id": "9e85613e",
   "metadata": {},
   "outputs": [
    {
     "name": "stdout",
     "output_type": "stream",
     "text": [
      "Kashif\n"
     ]
    }
   ],
   "source": [
    "name = \"Kashif\"\n",
    "print(name)"
   ]
  },
  {
   "cell_type": "markdown",
   "id": "1ab96dd8",
   "metadata": {},
   "source": [
    "Q10. Given the string \"Hello, World!\", extract the substring \"World\"."
   ]
  },
  {
   "cell_type": "code",
   "execution_count": 9,
   "id": "22f281f4",
   "metadata": {},
   "outputs": [
    {
     "name": "stdout",
     "output_type": "stream",
     "text": [
      "World\n"
     ]
    }
   ],
   "source": [
    "original_string = \"Hello, World!\"\n",
    "\n",
    "# Extracting the substring \"World\"\n",
    "substring = original_string[7:12]\n",
    "\n",
    "print(substring)"
   ]
  },
  {
   "cell_type": "markdown",
   "id": "003eeada",
   "metadata": {},
   "source": [
    "Q11. Create a variable named \"is_student\" and assign it a boolean value indicating whether you are currently a student or not."
   ]
  },
  {
   "cell_type": "code",
   "execution_count": 10,
   "id": "a4d46e2b",
   "metadata": {},
   "outputs": [],
   "source": [
    "is_student = True  # or False, depending on your current student status"
   ]
  }
 ],
 "metadata": {
  "kernelspec": {
   "display_name": "Python 3 (ipykernel)",
   "language": "python",
   "name": "python3"
  },
  "language_info": {
   "codemirror_mode": {
    "name": "ipython",
    "version": 3
   },
   "file_extension": ".py",
   "mimetype": "text/x-python",
   "name": "python",
   "nbconvert_exporter": "python",
   "pygments_lexer": "ipython3",
   "version": "3.11.5"
  }
 },
 "nbformat": 4,
 "nbformat_minor": 5
}
