{
 "cells": [
  {
   "cell_type": "code",
   "execution_count": null,
   "id": "4f78d302",
   "metadata": {},
   "outputs": [],
   "source": [
    "import numpy as np\n",
    "list_ = [ ‘1’ , ’2’ , ‘3’ , ‘4’ , ‘5’ ]\n",
    "array_list = np.array(object = list_)"
   ]
  },
  {
   "cell_type": "code",
   "execution_count": null,
   "id": "9b2ba61d",
   "metadata": {},
   "outputs": [],
   "source": [
    "Q1. Is there any difference in the data type of variables list_ and array_list? If there is then write a code\n",
    "to print the data types of both the variables."
   ]
  },
  {
   "cell_type": "code",
   "execution_count": null,
   "id": "7e3fc3f8",
   "metadata": {},
   "outputs": [],
   "source": [
    "import numpy as np\n",
    "\n",
    "list_ = ['1', '2', '3', '4', '5']\n",
    "array_list = np.array(object=list_)\n",
    "\n",
    "print(\"Data type of list_:\", type(list_))\n",
    "print(\"Data type of array_list:\", type(array_list))"
   ]
  },
  {
   "cell_type": "code",
   "execution_count": null,
   "id": "fdff85b2",
   "metadata": {},
   "outputs": [],
   "source": [
    "Q2. Write a code to print the data type of each and every element of both the variables list_ and arra_list."
   ]
  },
  {
   "cell_type": "code",
   "execution_count": null,
   "id": "b633b10b",
   "metadata": {},
   "outputs": [],
   "source": [
    "import numpy as np\n",
    "\n",
    "list_ = ['1', '2', '3', '4', '5']\n",
    "array_list = np.array(object=list_)\n",
    "\n",
    "# Print data types of elements in list_\n",
    "print(\"Data types of elements in list_:\")\n",
    "for item in list_:\n",
    "    print(f\"Element: {item}, Data type: {type(item)}\")\n",
    "\n",
    "# Print data types of elements in array_list\n",
    "print(\"\\nData types of elements in array_list:\")\n",
    "for item in array_list:\n",
    "    print(f\"Element: {item}, Data type: {type(item)}\")"
   ]
  },
  {
   "cell_type": "code",
   "execution_count": null,
   "id": "b13f6246",
   "metadata": {},
   "outputs": [],
   "source": [
    "Q3. Considering the following changes in the variable, array_list:\n",
    "array_list = np.array(object = list_, dtype = int)\n",
    "Will there be any difference in the data type of the elements present in both the variables, list_ and\n",
    "arra_list? If so then print the data types of each and every element present in both the variables, list_\n",
    "and arra_list.\n",
    "Consider the below code to answer further questions:\n",
    "import numpy as np\n",
    "num_list = [ [ 1 , 2 , 3 ] , [ 4 , 5 , 6 ] ]\n",
    "num_array = np.array(object = num_list)"
   ]
  },
  {
   "cell_type": "code",
   "execution_count": null,
   "id": "593a915e",
   "metadata": {},
   "outputs": [],
   "source": [
    "import numpy as np\n",
    "\n",
    "# Original list\n",
    "list_ = ['1', '2', '3', '4', '5']\n",
    "\n",
    "# Create array_list with dtype=int\n",
    "array_list = np.array(object=list_, dtype=int)\n",
    "\n",
    "# Print data types of elements in list_\n",
    "print(\"Data types of elements in list_:\")\n",
    "for item in list_:\n",
    "    print(f\"Element: {item}, Data type: {type(item)}\")\n",
    "\n",
    "# Print data types of elements in array_list\n",
    "print(\"\\nData types of elements in array_list:\")\n",
    "for item in array_list:\n",
    "    print(f\"Element: {item}, Data type: {type(item)}\")\n",
    "# Print data types of elements in num_list\n",
    "print(\"\\nData types of elements in num_list:\")\n",
    "for sublist in num_list:\n",
    "    for item in sublist:\n",
    "        print(f\"Element: {item}, Data type: {type(item)}\")\n",
    "\n",
    "# Print data types of elements in num_array\n",
    "print(\"\\nData types of elements in num_array:\")\n",
    "for sublist in num_array:\n",
    "    for item in sublist:\n",
    "        print(f\"Element: {item}, Data type: {type(item)}\")"
   ]
  },
  {
   "cell_type": "code",
   "execution_count": null,
   "id": "d8e84f91",
   "metadata": {},
   "outputs": [],
   "source": [
    "Q4. Write a code to find the following characteristics of variable, num_array:\n",
    "(i) shape\n",
    "(ii) size"
   ]
  },
  {
   "cell_type": "code",
   "execution_count": null,
   "id": "20259e32",
   "metadata": {},
   "outputs": [],
   "source": [
    "import numpy as np\n",
    "\n",
    "# Define num_list and create num_array\n",
    "num_list = [[1, 2, 3], [4, 5, 6]]\n",
    "num_array = np.array(object=num_list)\n",
    "\n",
    "# Find and print the shape of num_array\n",
    "shape = num_array.shape\n",
    "print(\"Shape of num_array:\", shape)\n",
    "\n",
    "# Find and print the size of num_array\n",
    "size = num_array.size\n",
    "print(\"Size of num_array:\", size)"
   ]
  },
  {
   "cell_type": "code",
   "execution_count": null,
   "id": "3e847c61",
   "metadata": {},
   "outputs": [],
   "source": [
    "Q5. Write a code to create numpy array of 3*3 matrix containing zeros only, using a numpy array creation function.\n",
    "[Hint: The size of the array will be 9 and the shape will be (3,3).]"
   ]
  },
  {
   "cell_type": "code",
   "execution_count": null,
   "id": "91fe57cc",
   "metadata": {},
   "outputs": [],
   "source": [
    "import numpy as np\n",
    "\n",
    "# Create a 3x3 array of zeros\n",
    "zero_matrix = np.zeros((3, 3))\n",
    "\n",
    "# Print the zero matrix\n",
    "print(\"3x3 Matrix of zeros:\")\n",
    "print(zero_matrix)"
   ]
  },
  {
   "cell_type": "code",
   "execution_count": null,
   "id": "9bfe5443",
   "metadata": {},
   "outputs": [],
   "source": [
    "Q6. Create an identity matrix of shape (5,5) using numpy functions?\n",
    "[Hint: An identity matrix is a matrix containing 1 diagonally and other elements will be 0.]"
   ]
  },
  {
   "cell_type": "code",
   "execution_count": null,
   "id": "bdc2dab2",
   "metadata": {},
   "outputs": [],
   "source": [
    "import numpy as np\n",
    "\n",
    "# Create a 5x5 identity matrix\n",
    "identity_matrix = np.eye(5)\n",
    "\n",
    "# Print the identity matrix\n",
    "print(\"5x5 Identity Matrix:\")\n",
    "print(identity_matrix)"
   ]
  }
 ],
 "metadata": {
  "kernelspec": {
   "display_name": "Python 3 (ipykernel)",
   "language": "python",
   "name": "python3"
  },
  "language_info": {
   "codemirror_mode": {
    "name": "ipython",
    "version": 3
   },
   "file_extension": ".py",
   "mimetype": "text/x-python",
   "name": "python",
   "nbconvert_exporter": "python",
   "pygments_lexer": "ipython3",
   "version": "3.11.5"
  }
 },
 "nbformat": 4,
 "nbformat_minor": 5
}
