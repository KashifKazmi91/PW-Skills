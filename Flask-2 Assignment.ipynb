{
 "cells": [
  {
   "cell_type": "code",
   "execution_count": null,
   "id": "91176703",
   "metadata": {},
   "outputs": [],
   "source": [
    "Q1. Explain GET and POST methods."
   ]
  },
  {
   "cell_type": "code",
   "execution_count": null,
   "id": "ad82e048",
   "metadata": {},
   "outputs": [],
   "source": [
    "GET and POST are two common HTTP methods used in web development for sending and receiving data between a client \n",
    "(like a web browser) and a server.\n",
    "\n",
    "GET Method\n",
    "- Purpose: Primarily used to retrieve data from a server.\n",
    "- Request Parameters: Data is sent in the URL as query parameters.\n",
    "- Visibility: Parameters are visible in the URL, which can be bookmarked and shared.\n",
    "- Data Limit: Browsers impose a limit on the amount of data that can be sent via GET (usually around 2048 characters).\n",
    "- Idempotent: GET requests should not change the state of the server (e.g., fetching data without modifying it).\n",
    "- Caching: Responses can be cached, making it suitable for requests that don't change server state.\n",
    "\n",
    "POST Method\n",
    "- Purpose: Used to send data to the server, typically for creating or updating resources.\n",
    "- Request Parameters: Data is sent in the request body, not in the URL. This allows for larger amounts of data to \n",
    "    be sent.\n",
    "- Visibility: Parameters are not visible in the URL, making it less suitable for bookmarking but more secure for \n",
    "    sensitive data.\n",
    "- Data Limit: There’s generally no strict limit on the amount of data sent, though servers may impose their own limits.\n",
    "- Not Idempotent: POST requests can change the state of the server (e.g., submitting a form, creating a new entry).\n",
    "- Caching: Responses are generally not cached by default."
   ]
  },
  {
   "cell_type": "code",
   "execution_count": null,
   "id": "a9de43f4",
   "metadata": {},
   "outputs": [],
   "source": [
    "Q2. Why is request used in Flask?"
   ]
  },
  {
   "cell_type": "code",
   "execution_count": null,
   "id": "5eb2aab1",
   "metadata": {},
   "outputs": [],
   "source": [
    "Key Uses of `request`\n",
    "1. **Accessing Form Data**:\n",
    "When a client submits a form using the POST method, you can access the form data through `request.form`, \n",
    "which is a dictionary-like object containing all form fields.\n",
    "\n",
    "   ```python\n",
    "   @app.route('/submit', methods=['POST'])\n",
    "   def submit():\n",
    "       name = request.form['name']\n",
    "       return f'Hello, {name}!'\n",
    "   ```\n",
    "\n",
    "2. Query Parameters:\n",
    "For GET requests, you can access query parameters using `request.args`, which allows you to retrieve values from \n",
    "the URL.\n",
    "\n",
    "   ```python\n",
    "   @app.route('/search')\n",
    "   def search():\n",
    "       query = request.args.get('q')\n",
    "       return f'Search results for: {query}'\n",
    "   ```\n",
    "\n",
    "3. Request Headers:\n",
    "You can read HTTP headers sent with the request using `request.headers`. This can be useful for accessing \n",
    "information like authentication tokens or content types.\n",
    "\n",
    "   ```python\n",
    "   @app.route('/api/data', methods=['GET'])\n",
    "   def api_data():\n",
    "       auth_header = request.headers.get('Authorization')\n",
    "       return f'Auth header: {auth_header}'\n",
    "   ```\n",
    "\n",
    "4. JSON Data:\n",
    "If the request body contains JSON data (often used in APIs), you can access it with `request.get_json()`.\n",
    "\n",
    "   ```python\n",
    "   @app.route('/json', methods=['POST'])\n",
    "   def json_endpoint():\n",
    "       data = request.get_json()\n",
    "       return f'Received data: {data}'\n",
    "   ```\n",
    "\n",
    "5. File Uploads:\n",
    "When handling file uploads, you can access uploaded files through `request.files`.\n",
    "\n",
    "   ```python\n",
    "   @app.route('/upload', methods=['POST'])\n",
    "   def upload_file():\n",
    "       file = request.files['file']\n",
    "       file.save(f'./uploads/{file.filename}')\n",
    "       return 'File uploaded successfully!'\n",
    "   ```"
   ]
  },
  {
   "cell_type": "code",
   "execution_count": null,
   "id": "fdb1cab2",
   "metadata": {},
   "outputs": [],
   "source": [
    "Q3. Why is redirect() used in Flask?"
   ]
  },
  {
   "cell_type": "code",
   "execution_count": null,
   "id": "01190db3",
   "metadata": {},
   "outputs": [],
   "source": [
    "Key Uses of `redirect()`\n",
    "\n",
    "1. Changing Location:\n",
    "When you want to send users to a different page after an action (e.g., after submitting a form), `redirect()` \n",
    "allows you to specify the new location.\n",
    "\n",
    "   ```python\n",
    "   @app.route('/submit', methods=['POST'])\n",
    "   def submit():\n",
    "       # Process the form data...\n",
    "       return redirect(url_for('success'))\n",
    "\n",
    "   @app.route('/success')\n",
    "   def success():\n",
    "       return 'Form submitted successfully!'\n",
    "   ```\n",
    "\n",
    "2. Post/Redirect/Get Pattern:\n",
    "This pattern helps avoid duplicate form submissions. After processing a POST request (like form submission), \n",
    "you can redirect to a new page. This way, if the user refreshes the page, they won't accidentally resubmit the form.\n",
    "\n",
    "3. URL Building:\n",
    "You can use `redirect()` in conjunction with `url_for()` to generate the URL dynamically based on the function name. \n",
    "This is particularly useful if your URL structure might change, as it keeps your code more maintainable.\n",
    "\n",
    "   ```python\n",
    "   @app.route('/login', methods=['POST'])\n",
    "   def login():\n",
    "       # Assume authentication happens here\n",
    "       return redirect(url_for('dashboard'))\n",
    "\n",
    "   @app.route('/dashboard')\n",
    "   def dashboard():\n",
    "       return 'Welcome to your dashboard!'\n",
    "   ```\n",
    "\n",
    "4. Handling Errors:\n",
    "Redirecting can also be useful in error handling. If a user tries to access a restricted page, you might redirect \n",
    "them to a login page or an error page.\n",
    "\n",
    "   ```python\n",
    "   @app.route('/restricted')\n",
    "   def restricted():\n",
    "       return redirect(url_for('login'))\n",
    "   ```"
   ]
  },
  {
   "cell_type": "code",
   "execution_count": null,
   "id": "bd11a571",
   "metadata": {},
   "outputs": [],
   "source": [
    "Q4. What are templates in Flask? Why is the render_template() function used?"
   ]
  },
  {
   "cell_type": "code",
   "execution_count": null,
   "id": "ad2eef79",
   "metadata": {},
   "outputs": [],
   "source": [
    "Key Features of Templates in Flask\n",
    "1. Dynamic Content: Templates can include placeholders for dynamic content that gets populated with data from your \n",
    "application at runtime. This allows you to generate HTML pages based on the data in your application.\n",
    "2. Reusability: You can create reusable templates for different parts of your application, such as headers, footers, \n",
    "and navigation bars, to avoid code duplication.\n",
    "3. Control Structures: Templates support control structures like loops and conditionals, allowing you to display \n",
    "content conditionally or iterate over lists of items.\n",
    "4. Inheritance: Jinja2 supports template inheritance, enabling you to create a base template and extend it in other \n",
    "    templates. This promotes a consistent look and feel across your application.\n",
    "\n",
    "`render_template()` Function\n",
    "The `render_template()` function is used to render a template file and return the generated HTML to the client. \n",
    "Here’s why it’s important:\n",
    "1. Loading Templates: It automatically locates the specified template file within the `templates` folder of your \n",
    "Flask application.\n",
    "2. Passing Data: You can pass data from your Flask views to the template using keyword arguments. This data can \n",
    "be accessed within the template to populate dynamic content.\n",
    "3. HTML Generation: The function combines the template with the provided data and generates the final HTML that will \n",
    "be sent to the client."
   ]
  },
  {
   "cell_type": "code",
   "execution_count": null,
   "id": "27e0432c",
   "metadata": {},
   "outputs": [],
   "source": [
    "Q5. Create a simple API. Use Postman to test it. Attach the screenshot of the output in the Jupyter Notebook."
   ]
  },
  {
   "cell_type": "code",
   "execution_count": 1,
   "id": "8d2b0909",
   "metadata": {},
   "outputs": [
    {
     "name": "stdout",
     "output_type": "stream",
     "text": [
      "Requirement already satisfied: Flask in c:\\users\\kazmi\\anaconda3\\lib\\site-packages (2.2.2)Note: you may need to restart the kernel to use updated packages.\n",
      "\n",
      "Requirement already satisfied: Werkzeug>=2.2.2 in c:\\users\\kazmi\\anaconda3\\lib\\site-packages (from Flask) (2.2.3)\n",
      "Requirement already satisfied: Jinja2>=3.0 in c:\\users\\kazmi\\anaconda3\\lib\\site-packages (from Flask) (3.1.2)\n",
      "Requirement already satisfied: itsdangerous>=2.0 in c:\\users\\kazmi\\anaconda3\\lib\\site-packages (from Flask) (2.0.1)\n",
      "Requirement already satisfied: click>=8.0 in c:\\users\\kazmi\\anaconda3\\lib\\site-packages (from Flask) (8.0.4)\n",
      "Requirement already satisfied: colorama in c:\\users\\kazmi\\anaconda3\\lib\\site-packages (from click>=8.0->Flask) (0.4.6)\n",
      "Requirement already satisfied: MarkupSafe>=2.0 in c:\\users\\kazmi\\anaconda3\\lib\\site-packages (from Jinja2>=3.0->Flask) (2.1.1)\n"
     ]
    }
   ],
   "source": [
    "pip install Flask"
   ]
  },
  {
   "cell_type": "code",
   "execution_count": null,
   "id": "23f7145b",
   "metadata": {},
   "outputs": [],
   "source": [
    "from flask import Flask, jsonify, request\n",
    "\n",
    "app = Flask(__name__)\n",
    "\n",
    "# Sample data to represent our items\n",
    "items = []\n",
    "\n",
    "@app.route('/items', methods=['GET'])\n",
    "def get_items():\n",
    "    \"\"\"Get the list of items.\"\"\"\n",
    "    return jsonify(items), 200\n",
    "\n",
    "@app.route('/items', methods=['POST'])\n",
    "def add_item():\n",
    "    \"\"\"Add a new item.\"\"\"\n",
    "    data = request.get_json()\n",
    "    if not data or 'name' not in data:\n",
    "        return jsonify({'error': 'Invalid data'}), 400\n",
    "    \n",
    "    item = {\n",
    "        'id': len(items) + 1,\n",
    "        'name': data['name']\n",
    "    }\n",
    "    items.append(item)\n",
    "    return jsonify(item), 201\n",
    "\n",
    "@app.route('/items/<int:item_id>', methods=['DELETE'])\n",
    "def delete_item(item_id):\n",
    "    \"\"\"Delete an item by ID.\"\"\"\n",
    "    global items\n",
    "    items = [item for item in items if item['id'] != item_id]\n",
    "    return jsonify({'message': 'Item deleted'}), 204\n",
    "\n",
    "if __name__ == '__main__':\n",
    "    app.run(debug=True)"
   ]
  }
 ],
 "metadata": {
  "kernelspec": {
   "display_name": "Python 3 (ipykernel)",
   "language": "python",
   "name": "python3"
  },
  "language_info": {
   "codemirror_mode": {
    "name": "ipython",
    "version": 3
   },
   "file_extension": ".py",
   "mimetype": "text/x-python",
   "name": "python",
   "nbconvert_exporter": "python",
   "pygments_lexer": "ipython3",
   "version": "3.11.5"
  }
 },
 "nbformat": 4,
 "nbformat_minor": 5
}
