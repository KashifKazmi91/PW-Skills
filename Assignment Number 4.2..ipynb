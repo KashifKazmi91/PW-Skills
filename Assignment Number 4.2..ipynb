{
 "cells": [
  {
   "cell_type": "markdown",
   "id": "93e7d87b",
   "metadata": {},
   "source": [
    "Q1, Create a vehicle class with an init method having instance variables as name_of_vehicle, max_speed and average_of_vehicle. "
   ]
  },
  {
   "cell_type": "code",
   "execution_count": 1,
   "id": "38cb3197",
   "metadata": {},
   "outputs": [
    {
     "name": "stdout",
     "output_type": "stream",
     "text": [
      "Vehicle 1:\n",
      "Name: Car\n",
      "Max Speed: 200\n",
      "Average Speed: 25\n",
      "\n",
      "Vehicle 2:\n",
      "Name: Bike\n",
      "Max Speed: 150\n",
      "Average Speed: 20\n"
     ]
    }
   ],
   "source": [
    "class Vehicle:\n",
    "    def __init__(self, name_of_vehicle, max_speed, average_of_vehicle):\n",
    "        self.name_of_vehicle = name_of_vehicle\n",
    "        self.max_speed = max_speed\n",
    "        self.average_of_vehicle = average_of_vehicle\n",
    "\n",
    "# Creating an instance of Vehicle class\n",
    "vehicle1 = Vehicle(\"Car\", 200, 25)\n",
    "vehicle2 = Vehicle(\"Bike\", 150, 20)\n",
    "\n",
    "# Accessing instance variables\n",
    "print(\"Vehicle 1:\")\n",
    "print(\"Name:\", vehicle1.name_of_vehicle)\n",
    "print(\"Max Speed:\", vehicle1.max_speed)\n",
    "print(\"Average Speed:\", vehicle1.average_of_vehicle)\n",
    "\n",
    "print(\"\\nVehicle 2:\")\n",
    "print(\"Name:\", vehicle2.name_of_vehicle)\n",
    "print(\"Max Speed:\", vehicle2.max_speed)\n",
    "print(\"Average Speed:\", vehicle2.average_of_vehicle)"
   ]
  },
  {
   "cell_type": "markdown",
   "id": "9aa6f07f",
   "metadata": {},
   "source": [
    "Q2.  Create a child class car from the vehicle class created in Que 1, which will inherit the vehicle class. Create a method named seating_capacity which takes capacity as an argument and returns the name of the vehicle and its seating capacity."
   ]
  },
  {
   "cell_type": "code",
   "execution_count": 2,
   "id": "e0254c4a",
   "metadata": {},
   "outputs": [
    {
     "name": "stdout",
     "output_type": "stream",
     "text": [
      "The Toyota has a seating capacity of 5.\n"
     ]
    }
   ],
   "source": [
    "class Vehicle:\n",
    "    def __init__(self, name_of_vehicle, max_speed, average_of_vehicle):\n",
    "        self.name_of_vehicle = name_of_vehicle\n",
    "        self.max_speed = max_speed\n",
    "        self.average_of_vehicle = average_of_vehicle\n",
    "\n",
    "class Car(Vehicle):  # Car class inherits from Vehicle class\n",
    "    def seating_capacity(self, capacity):\n",
    "        return f\"The {self.name_of_vehicle} has a seating capacity of {capacity}.\"\n",
    "\n",
    "# Creating an instance of Car class\n",
    "car1 = Car(\"Toyota\", 200, 25)\n",
    "\n",
    "# Calling the seating_capacity method\n",
    "print(car1.seating_capacity(5))  # Output: The Toyota has a seating capacity of 5."
   ]
  },
  {
   "cell_type": "code",
   "execution_count": null,
   "id": "227a8334",
   "metadata": {},
   "outputs": [],
   "source": [
    "Q3. What is multiple inheritance? Write a python code to demonstrate multiple inheritance."
   ]
  },
  {
   "cell_type": "code",
   "execution_count": 3,
   "id": "e23509eb",
   "metadata": {},
   "outputs": [
    {
     "name": "stdout",
     "output_type": "stream",
     "text": [
      "Method 1 from Parent1\n",
      "Method 2 from Parent2\n",
      "Method 3 from Child\n"
     ]
    }
   ],
   "source": [
    "# Define parent classes\n",
    "class Parent1:\n",
    "    def method1(self):\n",
    "        print(\"Method 1 from Parent1\")\n",
    "\n",
    "class Parent2:\n",
    "    def method2(self):\n",
    "        print(\"Method 2 from Parent2\")\n",
    "\n",
    "# Define child class inheriting from both Parent1 and Parent2\n",
    "class Child(Parent1, Parent2):\n",
    "    def method3(self):\n",
    "        print(\"Method 3 from Child\")\n",
    "\n",
    "# Create an instance of Child class\n",
    "child = Child()\n",
    "\n",
    "# Call methods from both parent classes\n",
    "child.method1()  # Output: Method 1 from Parent1\n",
    "child.method2()  # Output: Method 2 from Parent2\n",
    "\n",
    "# Call method from child class\n",
    "child.method3()  # Output: Method 3 from Child"
   ]
  },
  {
   "cell_type": "markdown",
   "id": "ba87950a",
   "metadata": {},
   "source": [
    "Q4. What are getter and setter in python? Create a class and create a getter and a setter method in this class."
   ]
  },
  {
   "cell_type": "code",
   "execution_count": 4,
   "id": "435dc4e1",
   "metadata": {},
   "outputs": [
    {
     "name": "stdout",
     "output_type": "stream",
     "text": [
      "10\n",
      "Invalid input! Attribute must be an integer.\n"
     ]
    }
   ],
   "source": [
    "class MyClass:\n",
    "    def __init__(self):\n",
    "        self._my_attribute = None  # Initialize attribute with None\n",
    "    \n",
    "    # Getter method\n",
    "    def get_my_attribute(self):\n",
    "        return self._my_attribute\n",
    "    \n",
    "    # Setter method\n",
    "    def set_my_attribute(self, value):\n",
    "        if isinstance(value, int):  # Example validation\n",
    "            self._my_attribute = value\n",
    "        else:\n",
    "            print(\"Invalid input! Attribute must be an integer.\")\n",
    "\n",
    "# Creating an instance of MyClass\n",
    "obj = MyClass()\n",
    "\n",
    "# Setting attribute using setter method\n",
    "obj.set_my_attribute(10)\n",
    "\n",
    "# Getting attribute using getter method\n",
    "print(obj.get_my_attribute())  # Output: 10\n",
    "\n",
    "# Trying to set attribute with invalid input\n",
    "obj.set_my_attribute(\"invalid\")  # Output: Invalid input! Attribute must be an integer."
   ]
  },
  {
   "cell_type": "markdown",
   "id": "594fa0af",
   "metadata": {},
   "source": [
    "Q5.What is method overriding in python? Write a python code to demonstrate method overriding."
   ]
  },
  {
   "cell_type": "code",
   "execution_count": 5,
   "id": "7d2ac4ec",
   "metadata": {},
   "outputs": [
    {
     "name": "stdout",
     "output_type": "stream",
     "text": [
      "Animal speaks\n",
      "Dog barks\n"
     ]
    }
   ],
   "source": [
    "class Animal:\n",
    "    def speak(self):\n",
    "        print(\"Animal speaks\")\n",
    "\n",
    "class Dog(Animal):\n",
    "    def speak(self):\n",
    "        print(\"Dog barks\")\n",
    "\n",
    "# Creating instances of Animal and Dog classes\n",
    "animal = Animal()\n",
    "dog = Dog()\n",
    "\n",
    "# Calling speak method of Animal class\n",
    "animal.speak()  # Output: Animal speaks\n",
    "\n",
    "# Calling speak method of Dog class (overridden method)\n",
    "dog.speak()     # Output: Dog barks"
   ]
  }
 ],
 "metadata": {
  "kernelspec": {
   "display_name": "Python 3 (ipykernel)",
   "language": "python",
   "name": "python3"
  },
  "language_info": {
   "codemirror_mode": {
    "name": "ipython",
    "version": 3
   },
   "file_extension": ".py",
   "mimetype": "text/x-python",
   "name": "python",
   "nbconvert_exporter": "python",
   "pygments_lexer": "ipython3",
   "version": "3.11.5"
  }
 },
 "nbformat": 4,
 "nbformat_minor": 5
}
