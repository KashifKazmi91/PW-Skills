{
 "cells": [
  {
   "cell_type": "code",
   "execution_count": null,
   "id": "85bbdbca",
   "metadata": {},
   "outputs": [],
   "source": [
    "Q1. Pearson correlation coefficient is a measure of the linear relationship between two variables. Suppose\n",
    "you have collected data on the amount of time students spend studying for an exam and their final exam\n",
    "scores. Calculate the Pearson correlation coefficient between these two variables and interpret the result."
   ]
  },
  {
   "cell_type": "code",
   "execution_count": null,
   "id": "b1df9d86",
   "metadata": {},
   "outputs": [],
   "source": [
    "import numpy as np\n",
    "from scipy.stats import pearsonr\n",
    "\n",
    "# Sample data\n",
    "study_time = np.array([1, 2, 3, 4, 5])\n",
    "exam_scores = np.array([50, 60, 65, 70, 80])\n",
    "\n",
    "# Calculate Pearson correlation coefficient\n",
    "correlation_coefficient, _ = pearsonr(study_time, exam_scores)\n",
    "\n",
    "# Display the result\n",
    "print(\"Pearson correlation coefficient:\", correlation_coefficient)"
   ]
  },
  {
   "cell_type": "code",
   "execution_count": null,
   "id": "dfde8e9d",
   "metadata": {},
   "outputs": [],
   "source": [
    "Q2. Spearman's rank correlation is a measure of the monotonic relationship between two variables.\n",
    "Suppose you have collected data on the amount of sleep individuals get each night and their overall job\n",
    "satisfaction level on a scale of 1 to 10. Calculate the Spearman's rank correlation between these two\n",
    "variables and interpret the result."
   ]
  },
  {
   "cell_type": "code",
   "execution_count": null,
   "id": "dfcdc532",
   "metadata": {},
   "outputs": [],
   "source": [
    "import numpy as np\n",
    "from scipy.stats import spearmanr\n",
    "\n",
    "# Sample data\n",
    "sleep_hours = np.array([5, 6, 4, 8, 7])\n",
    "job_satisfaction = np.array([6, 7, 5, 9, 8])\n",
    "\n",
    "# Calculate Spearman's rank correlation\n",
    "spearman_correlation, _ = spearmanr(sleep_hours, job_satisfaction)\n",
    "\n",
    "# Display the result\n",
    "print(\"Spearman's rank correlation coefficient:\", spearman_correlation)\n"
   ]
  },
  {
   "cell_type": "code",
   "execution_count": null,
   "id": "1b51c8cb",
   "metadata": {},
   "outputs": [],
   "source": [
    "Q3. Suppose you are conducting a study to examine the relationship between the number of hours of\n",
    "exercise per week and body mass index (BMI) in a sample of adults. You collected data on both variables\n",
    "for 50 participants. Calculate the Pearson correlation coefficient and the Spearman's rank correlation\n",
    "between these two variables and compare the results."
   ]
  },
  {
   "cell_type": "code",
   "execution_count": null,
   "id": "429688db",
   "metadata": {},
   "outputs": [],
   "source": [
    "import numpy as np\n",
    "from scipy.stats import pearsonr, spearmanr\n",
    "\n",
    "# Sample data\n",
    "exercise_hours = np.array([1, 2, 3, 4, 5, 0, 6, 7, 8, 9])\n",
    "bmi = np.array([30, 28, 27, 25, 24, 32, 23, 22, 21, 20])\n",
    "\n",
    "# Calculate Pearson correlation coefficient\n",
    "pearson_correlation, _ = pearsonr(exercise_hours, bmi)\n",
    "\n",
    "# Display Pearson result\n",
    "print(\"Pearson correlation coefficient:\", pearson_correlation)\n",
    "\n",
    "# Calculate Spearman's rank correlation\n",
    "spearman_correlation, _ = spearmanr(exercise_hours, bmi)\n",
    "\n",
    "# Display Spearman result\n",
    "print(\"Spearman's rank correlation coefficient:\", spearman_correlation)\n"
   ]
  },
  {
   "cell_type": "code",
   "execution_count": null,
   "id": "e5a6835a",
   "metadata": {},
   "outputs": [],
   "source": [
    "Q4. A researcher is interested in examining the relationship between the number of hours individuals\n",
    "spend watching television per day and their level of physical activity. The researcher collected data on\n",
    "both variables from a sample of 50 participants. Calculate the Pearson correlation coefficient between\n",
    "these two variables."
   ]
  },
  {
   "cell_type": "code",
   "execution_count": null,
   "id": "b208c5d5",
   "metadata": {},
   "outputs": [],
   "source": [
    "import numpy as np\n",
    "from scipy.stats import pearsonr\n",
    "\n",
    "# Sample data\n",
    "tv_hours = np.array([5, 4, 6, 3, 2, 7, 1, 0, 8, 2])\n",
    "physical_activity = np.array([1, 2, 0, 3, 4, 0, 5, 6, 0, 3])\n",
    "\n",
    "# Calculate Pearson correlation coefficient\n",
    "pearson_correlation, _ = pearsonr(tv_hours, physical_activity)\n",
    "\n",
    "# Display the result\n",
    "print(\"Pearson correlation coefficient:\", pearson_correlation)\n"
   ]
  },
  {
   "cell_type": "code",
   "execution_count": null,
   "id": "adcf5435",
   "metadata": {},
   "outputs": [],
   "source": [
    "Q5. A survey was conducted to examine the relationship between age and preference for a particular\n",
    "brand of soft drink. The survey results are shown below:\n",
    "    Age(Years) Soft drink Preference\n",
    "       25               Coke\n",
    "       42              Pepsi\n",
    "       37           Mountain dew\n",
    "       19               Coke\n",
    "       31              Pepsi\n",
    "       28               Coke"
   ]
  },
  {
   "cell_type": "code",
   "execution_count": null,
   "id": "1f4b56b1",
   "metadata": {},
   "outputs": [],
   "source": [
    "import pandas as pd\n",
    "\n",
    "# Create the DataFrame\n",
    "data = {\n",
    "    'Age': [25, 42, 37, 19, 31, 28],\n",
    "    'Soft Drink Preference': ['Coke', 'Pepsi', 'Mountain Dew', 'Coke', 'Pepsi', 'Coke']\n",
    "}\n",
    "\n",
    "df = pd.DataFrame(data)\n",
    "\n",
    "# Group by soft drink preference and calculate average age\n",
    "average_age = df.groupby('Soft Drink Preference')['Age'].mean()\n",
    "\n",
    "print(average_age)\n",
    "\n",
    "from scipy.stats import chi2_contingency\n",
    "\n",
    "# Create age groups\n",
    "bins = [0, 25, 35, 45]\n",
    "labels = ['18-25', '26-35', '36-45']\n",
    "df['Age Group'] = pd.cut(df['Age'], bins=bins, labels=labels, right=False)\n",
    "\n",
    "# Create a contingency table\n",
    "contingency_table = pd.crosstab(df['Age Group'], df['Soft Drink Preference'])\n",
    "\n",
    "# Perform Chi-square test\n",
    "chi2, p, _, _ = chi2_contingency(contingency_table)\n",
    "\n",
    "print(\"Chi-square Statistic:\", chi2)\n",
    "print(\"P-value:\", p)\n"
   ]
  },
  {
   "cell_type": "code",
   "execution_count": null,
   "id": "17dbcf03",
   "metadata": {},
   "outputs": [],
   "source": [
    "Q6. A company is interested in examining the relationship between the number of sales calls made per day\n",
    "and the number of sales made per week. The company collected data on both variables from a sample of\n",
    "30 sales representatives. Calculate the Pearson correlation coefficient between these two variables."
   ]
  },
  {
   "cell_type": "code",
   "execution_count": null,
   "id": "1763b29c",
   "metadata": {},
   "outputs": [],
   "source": [
    "import numpy as np\n",
    "from scipy.stats import pearsonr\n",
    "\n",
    "# Sample data\n",
    "sales_calls = np.array([10, 12, 8, 15, 20, 25, 18, 30, 22, 14])\n",
    "sales_made = np.array([5, 6, 4, 8, 10, 15, 9, 20, 12, 7])\n",
    "\n",
    "# Calculate Pearson correlation coefficient\n",
    "pearson_correlation, _ = pearsonr(sales_calls, sales_made)\n",
    "\n",
    "# Display the result\n",
    "print(\"Pearson correlation coefficient:\", pearson_correlation)"
   ]
  }
 ],
 "metadata": {
  "kernelspec": {
   "display_name": "Python 3 (ipykernel)",
   "language": "python",
   "name": "python3"
  },
  "language_info": {
   "codemirror_mode": {
    "name": "ipython",
    "version": 3
   },
   "file_extension": ".py",
   "mimetype": "text/x-python",
   "name": "python",
   "nbconvert_exporter": "python",
   "pygments_lexer": "ipython3",
   "version": "3.11.5"
  }
 },
 "nbformat": 4,
 "nbformat_minor": 5
}
