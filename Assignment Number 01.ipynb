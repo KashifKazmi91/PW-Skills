{
 "cells": [
  {
   "cell_type": "markdown",
   "id": "6555a1cd",
   "metadata": {},
   "source": [
    "Q 1. Create one variable containing following type of data: string"
   ]
  },
  {
   "cell_type": "code",
   "execution_count": 3,
   "id": "71482bf5",
   "metadata": {},
   "outputs": [
    {
     "name": "stdout",
     "output_type": "stream",
     "text": [
      "Hi Kashif!\n"
     ]
    }
   ],
   "source": [
    "my_string = \"Hi Kashif!\"\n",
    "print (my_string)"
   ]
  },
  {
   "cell_type": "markdown",
   "id": "f6c2710d",
   "metadata": {},
   "source": [
    "Q 1. Create one variable containing following type of data: list"
   ]
  },
  {
   "cell_type": "code",
   "execution_count": 4,
   "id": "30a38e44",
   "metadata": {},
   "outputs": [
    {
     "name": "stdout",
     "output_type": "stream",
     "text": [
      "[1, 2, 3, 4, 5]\n"
     ]
    }
   ],
   "source": [
    "my_list = [1, 2, 3, 4, 5]\n",
    "print (my_list)"
   ]
  },
  {
   "cell_type": "markdown",
   "id": "363123dd",
   "metadata": {},
   "source": [
    "Q 1. Create one variable containing following type of data: float"
   ]
  },
  {
   "cell_type": "code",
   "execution_count": 5,
   "id": "e76daa19",
   "metadata": {},
   "outputs": [
    {
     "name": "stdout",
     "output_type": "stream",
     "text": [
      "3.14\n"
     ]
    }
   ],
   "source": [
    "my_float = 3.14\n",
    "print (my_float)"
   ]
  },
  {
   "cell_type": "markdown",
   "id": "945e199d",
   "metadata": {},
   "source": [
    "Q 1. Create one variable containing following type of data: tuple"
   ]
  },
  {
   "cell_type": "code",
   "execution_count": 6,
   "id": "24a03493",
   "metadata": {},
   "outputs": [
    {
     "name": "stdout",
     "output_type": "stream",
     "text": [
      "(1, 2, 3, 4, 5)\n"
     ]
    }
   ],
   "source": [
    "my_tuple = (1, 2, 3, 4, 5)\n",
    "print (my_tuple)"
   ]
  },
  {
   "cell_type": "markdown",
   "id": "a8dd10e8",
   "metadata": {},
   "source": [
    "Q 2. Given are some following variables containing data:\n",
    "(i) var1 = ‘ ‘\n",
    "(ii) var2 = ‘[ DS , ML , Python]’\n",
    "(iii) var3 = [ ‘DS’ , ’ML’ , ‘Python’ ]\n",
    "(iv) var4 = 1.\n",
    "What will be the data type of the above given variable."
   ]
  },
  {
   "cell_type": "markdown",
   "id": "f18cebe8",
   "metadata": {},
   "source": [
    "(i) var1 = '': This is an empty string. The data type is str (string).\n",
    "\n",
    "(ii) var2 = '[DS, ML, Python]': This looks like a string, but it's written as if it could represent a list. However, due to the quotes around it, it's still a string. The data type is str (string).\n",
    "\n",
    "(iii) var3 = ['DS', 'ML', 'Python']: This is a list with three string elements. The data type is list.\n",
    "\n",
    "(iv) var4 = 1.: This is a float (floating-point number). The data type is float."
   ]
  },
  {
   "cell_type": "markdown",
   "id": "8e0e3c05",
   "metadata": {},
   "source": [
    "Q3. Explain the use of the following operators using an example:\n",
    "(i) /\n",
    "(ii) %\n",
    "(iii) //\n",
    "(iv) **"
   ]
  },
  {
   "cell_type": "code",
   "execution_count": 7,
   "id": "930949a7",
   "metadata": {},
   "outputs": [
    {
     "name": "stdout",
     "output_type": "stream",
     "text": [
      "5.0\n",
      "1\n",
      "3\n",
      "8\n"
     ]
    }
   ],
   "source": [
    "result = 10 / 2 #(i)\n",
    "print(result)\n",
    "remainder = 10 % 3 #(ii)\n",
    "print(remainder)\n",
    "result = 10 // 3 #(iii)\n",
    "print(result)\n",
    "result = 2 ** 3 #(iv)\n",
    "print(result)"
   ]
  },
  {
   "cell_type": "markdown",
   "id": "175b7b92",
   "metadata": {},
   "source": [
    "Q 4. Create a list of length 10 of your choice containing multiple types of data. Using for loop print the element and its data type."
   ]
  },
  {
   "cell_type": "code",
   "execution_count": 8,
   "id": "a35a9099",
   "metadata": {},
   "outputs": [
    {
     "name": "stdout",
     "output_type": "stream",
     "text": [
      "Element: 42, Data Type: <class 'int'>\n",
      "Element: Hello, Data Type: <class 'str'>\n",
      "Element: 3.14, Data Type: <class 'float'>\n",
      "Element: True, Data Type: <class 'bool'>\n",
      "Element: [1, 2, 3], Data Type: <class 'list'>\n",
      "Element: {'key': 'value'}, Data Type: <class 'dict'>\n",
      "Element: None, Data Type: <class 'NoneType'>\n",
      "Element: (10, 20), Data Type: <class 'tuple'>\n",
      "Element: World, Data Type: <class 'str'>\n",
      "Element: False, Data Type: <class 'bool'>\n"
     ]
    }
   ],
   "source": [
    "my_list = [42, \"Hello\", 3.14, True, [1, 2, 3], {'key': 'value'}, None, (10, 20), \"World\", False]\n",
    "\n",
    "for element in my_list:\n",
    "    print(f\"Element: {element}, Data Type: {type(element)}\")"
   ]
  },
  {
   "cell_type": "markdown",
   "id": "998fe9cb",
   "metadata": {},
   "source": [
    "Q 5. Using a while loop, verify if the number A is purely divisible by number B and if so then how many times it can be divisible."
   ]
  },
  {
   "cell_type": "code",
   "execution_count": 10,
   "id": "05295636",
   "metadata": {},
   "outputs": [
    {
     "name": "stdout",
     "output_type": "stream",
     "text": [
      "Enter the dividend (A): 625\n",
      "Enter the divisor (B): 5\n",
      "1.0 is purely divisible by 5.\n",
      "It can be divided 4 times.\n"
     ]
    }
   ],
   "source": [
    "# Input the numbers A and B\n",
    "A = int(input(\"Enter the dividend (A): \"))\n",
    "B = int(input(\"Enter the divisor (B): \"))\n",
    "\n",
    "# Initialize a counter for the number of divisions\n",
    "divisions_count = 0\n",
    "\n",
    "# Use a while loop to perform divisions until A is not divisible by B\n",
    "while A % B == 0:\n",
    "    A /= B\n",
    "    divisions_count += 1\n",
    "\n",
    "# Check if there were any divisions\n",
    "if divisions_count > 0:\n",
    "    print(f\"{A} is purely divisible by {B}.\")\n",
    "    print(f\"It can be divided {divisions_count} times.\")\n",
    "else:\n",
    "    print(f\"{A} is not purely divisible by {B}.\")"
   ]
  },
  {
   "cell_type": "markdown",
   "id": "b2b40a08",
   "metadata": {},
   "source": [
    "Q6. Create a list containing 25 int type data. Using for loop and if-else condition print if the element is divisible by 3 or not."
   ]
  },
  {
   "cell_type": "code",
   "execution_count": 11,
   "id": "2cb8f604",
   "metadata": {},
   "outputs": [
    {
     "name": "stdout",
     "output_type": "stream",
     "text": [
      "7 is not divisible by 3.\n",
      "18 is divisible by 3.\n",
      "5 is not divisible by 3.\n",
      "12 is divisible by 3.\n",
      "36 is divisible by 3.\n",
      "9 is divisible by 3.\n",
      "21 is divisible by 3.\n",
      "8 is not divisible by 3.\n",
      "15 is divisible by 3.\n",
      "27 is divisible by 3.\n",
      "42 is divisible by 3.\n",
      "11 is not divisible by 3.\n",
      "30 is divisible by 3.\n",
      "14 is not divisible by 3.\n",
      "6 is divisible by 3.\n",
      "17 is not divisible by 3.\n",
      "22 is not divisible by 3.\n",
      "33 is divisible by 3.\n",
      "10 is not divisible by 3.\n",
      "25 is not divisible by 3.\n",
      "19 is not divisible by 3.\n",
      "13 is not divisible by 3.\n",
      "20 is not divisible by 3.\n",
      "24 is divisible by 3.\n",
      "16 is not divisible by 3.\n"
     ]
    }
   ],
   "source": [
    "# Create a list of 25 integers\n",
    "my_list = [7, 18, 5, 12, 36, 9, 21, 8, 15, 27, 42, 11, 30, 14, 6, 17, 22, 33, 10, 25, 19, 13, 20, 24, 16]\n",
    "\n",
    "# Use a for loop to iterate through the list\n",
    "for number in my_list:\n",
    "    # Check if the element is divisible by 3\n",
    "    if number % 3 == 0:\n",
    "        print(f\"{number} is divisible by 3.\")\n",
    "    else:\n",
    "        print(f\"{number} is not divisible by 3.\")"
   ]
  },
  {
   "cell_type": "markdown",
   "id": "567a73c3",
   "metadata": {},
   "source": [
    "Q7. What do you understand about mutable and immutable data types? Give examples for both showing this property."
   ]
  },
  {
   "cell_type": "code",
   "execution_count": 12,
   "id": "7886e070",
   "metadata": {},
   "outputs": [
    {
     "name": "stdout",
     "output_type": "stream",
     "text": [
      "Original List: [1, 2, 3, 4]\n",
      "Modified List: [1, 2, 99, 4]\n",
      "Original String: Hello\n"
     ]
    }
   ],
   "source": [
    "# Mutable Example - List\n",
    "mutable_list = [1, 2, 3, 4]\n",
    "print(\"Original List:\", mutable_list)\n",
    "\n",
    "# Modifying the list\n",
    "mutable_list[2] = 99\n",
    "print(\"Modified List:\", mutable_list)\n",
    "# Immutable Example - String\n",
    "immutable_string = \"Hello\"\n",
    "print(\"Original String:\", immutable_string)\n",
    "\n",
    "# Attempting to modify the string (will result in an error)\n",
    "# immutable_string[1] = 'a'  # Uncommenting this line will raise a TypeError"
   ]
  }
 ],
 "metadata": {
  "kernelspec": {
   "display_name": "Python 3 (ipykernel)",
   "language": "python",
   "name": "python3"
  },
  "language_info": {
   "codemirror_mode": {
    "name": "ipython",
    "version": 3
   },
   "file_extension": ".py",
   "mimetype": "text/x-python",
   "name": "python",
   "nbconvert_exporter": "python",
   "pygments_lexer": "ipython3",
   "version": "3.11.5"
  }
 },
 "nbformat": 4,
 "nbformat_minor": 5
}
