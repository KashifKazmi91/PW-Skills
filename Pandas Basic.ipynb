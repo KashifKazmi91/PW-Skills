{
 "cells": [
  {
   "cell_type": "code",
   "execution_count": null,
   "id": "b4437500",
   "metadata": {},
   "outputs": [],
   "source": [
    "Q1. Create a Pandas Series that contains the following data: 4, 8, 15, 16, 23, and 42. Then, print the series."
   ]
  },
  {
   "cell_type": "code",
   "execution_count": null,
   "id": "ee10f40e",
   "metadata": {},
   "outputs": [],
   "source": [
    "import pandas as pd\n",
    "\n",
    "# Create the Pandas Series\n",
    "data = [4, 8, 15, 16, 23, 42]\n",
    "series = pd.Series(data)\n",
    "\n",
    "# Print the Series\n",
    "print(series)"
   ]
  },
  {
   "cell_type": "code",
   "execution_count": null,
   "id": "3921540a",
   "metadata": {},
   "outputs": [],
   "source": [
    "Q2. Create a variable of list type containing 10 elements in it, and apply pandas.Series function on the\n",
    "variable print it."
   ]
  },
  {
   "cell_type": "code",
   "execution_count": null,
   "id": "4892cd59",
   "metadata": {},
   "outputs": [],
   "source": [
    "import pandas as pd\n",
    "\n",
    "# Create a list with 10 elements\n",
    "data_list = [10, 20, 30, 40, 50, 60, 70, 80, 90, 100]\n",
    "\n",
    "# Convert the list to a Pandas Series\n",
    "series = pd.Series(data_list)\n",
    "\n",
    "# Print the Series\n",
    "print(series)"
   ]
  },
  {
   "cell_type": "code",
   "execution_count": null,
   "id": "bd891532",
   "metadata": {},
   "outputs": [],
   "source": [
    "Q3. Create a Pandas DataFrame that contains the following data:Name\n",
    "Alice\n",
    "Bob\n",
    "Claire\n",
    "\n",
    "Age\n",
    "25\n",
    "30\n",
    "27\n",
    "\n",
    "Gender\n",
    "Female\n",
    "Male\n",
    "Female"
   ]
  },
  {
   "cell_type": "code",
   "execution_count": null,
   "id": "5792322b",
   "metadata": {},
   "outputs": [],
   "source": [
    "import pandas as pd\n",
    "\n",
    "# Create a dictionary with the data\n",
    "data = {\n",
    "    'Name': ['Alice', 'Bob', 'Claire'],\n",
    "    'Age': [25, 30, 27],\n",
    "    'Gender': ['Female', 'Male', 'Female']\n",
    "}\n",
    "\n",
    "# Convert the dictionary to a Pandas DataFrame\n",
    "df = pd.DataFrame(data)\n",
    "\n",
    "# Print the DataFrame\n",
    "print(df)\n"
   ]
  },
  {
   "cell_type": "code",
   "execution_count": null,
   "id": "f5177375",
   "metadata": {},
   "outputs": [],
   "source": [
    "Q4. What is ‘DataFrame’ in pandas and how is it different from pandas.series? Explain with an example."
   ]
  },
  {
   "cell_type": "code",
   "execution_count": null,
   "id": "e525268f",
   "metadata": {},
   "outputs": [],
   "source": [
    "A DataFrame is a two-dimensional, size-mutable, potentially heterogeneous tabular data structure, which can be thought \n",
    "of as a table or a spreadsheet. It consists of rows and columns, where each column can contain different data types \n",
    "(e.g., integers, floats, strings).\n",
    "\n",
    "A Series, on the other hand, is a one-dimensional labeled array capable of holding any data type. It can be seen as a\n",
    "single column of data.\n",
    "\n",
    "Key Differences\n",
    "\n",
    "Dimension:\n",
    "Series: One-dimensional (like a single column).\n",
    "DataFrame: Two-dimensional (like a table with rows and columns).\n",
    "\n",
    "Structure:\n",
    "Series: Contains a single column of data, with an index.\n",
    "DataFrame: Contains multiple columns of data, each with its own data type, and both row and column indices.\n",
    "\n",
    "Use Cases:\n",
    "Series: Useful for representing a single variable or feature.\n",
    "DataFrame: Useful for representing a dataset with multiple variables."
   ]
  },
  {
   "cell_type": "code",
   "execution_count": null,
   "id": "c74fa752",
   "metadata": {},
   "outputs": [],
   "source": [
    "import pandas as pd\n",
    "\n",
    "# Create a Pandas Series\n",
    "data_series = pd.Series([25, 30, 27], index=['Alice', 'Bob', 'Claire'])\n",
    "print(\"Pandas Series:\")\n",
    "print(data_series)\n",
    "\n",
    "# Create a Pandas DataFrame\n",
    "data = {\n",
    "    'Name': ['Alice', 'Bob', 'Claire'],\n",
    "    'Age': [25, 30, 27],\n",
    "    'Gender': ['Female', 'Male', 'Female']\n",
    "}\n",
    "data_frame = pd.DataFrame(data)\n",
    "print(\"\\nPandas DataFrame:\")\n",
    "print(data_frame)\n"
   ]
  },
  {
   "cell_type": "code",
   "execution_count": null,
   "id": "c0994faf",
   "metadata": {},
   "outputs": [],
   "source": [
    "Q5. What are some common functions you can use to manipulate data in a Pandas DataFrame? Can you give an example of \n",
    "when you might use one of these functions?"
   ]
  },
  {
   "cell_type": "code",
   "execution_count": null,
   "id": "4e2df204",
   "metadata": {},
   "outputs": [],
   "source": [
    "Common Functions in Pandas\n",
    "\n",
    "head(): Returns the first n rows of the DataFrame.\n",
    "Use Case: To quickly inspect the first few records in a large dataset.\n",
    "\n",
    "tail(): Returns the last n rows of the DataFrame.\n",
    "Use Case: To see the end of a dataset, which is useful for checking if the data was read correctly.\n",
    "\n",
    "info(): Provides a concise summary of the DataFrame, including the data types and non-null values.\n",
    "Use Case: To get an overview of the DataFrame structure and identify any missing values.\n",
    "\n",
    "describe(): Generates descriptive statistics for numeric columns, such as count, mean, and standard deviation.\n",
    "Use Case: To summarize the central tendency, dispersion, and shape of the dataset’s distribution.\n",
    "\n",
    "drop(): Removes specified rows or columns from the DataFrame.\n",
    "Use Case: To clean up the DataFrame by removing unnecessary columns.\n",
    "\n",
    "filter(): Filters rows or columns based on specific criteria.\n",
    "Use Case: To select only the relevant data based on certain conditions.\n",
    "\n",
    "groupby(): Groups the DataFrame using a particular column and allows for aggregate functions to be applied.\n",
    "Use Case: To calculate average values for different categories.\n",
    "\n",
    "merge(): Combines two DataFrames based on a common column.\n",
    "Use Case: To join related data from different sources into a single DataFrame.\n",
    "\n",
    "pivot_table(): Creates a pivot table to summarize data.\n",
    "Use Case: To analyze relationships between different variables by creating multidimensional summaries.\n",
    "\n",
    "fillna(): Fills missing values with specified values or methods.\n",
    "Use Case: To handle missing data by replacing NaNs with the mean or median of a column."
   ]
  },
  {
   "cell_type": "code",
   "execution_count": null,
   "id": "566dda25",
   "metadata": {},
   "outputs": [],
   "source": [
    "import pandas as pd\n",
    "\n",
    "# Create a sample DataFrame\n",
    "data = {\n",
    "    'Name': ['Alice', 'Bob', 'Claire', 'David', 'Eva'],\n",
    "    'Age': [25, 30, 27, 22, None],\n",
    "    'Gender': ['Female', 'Male', 'Female', 'Male', 'Female'],\n",
    "    'Salary': [50000, 60000, 55000, 45000, 70000]\n",
    "}\n",
    "df = pd.DataFrame(data)\n",
    "\n",
    "# Use info() to check DataFrame structure\n",
    "print(\"DataFrame Info:\")\n",
    "df.info()\n",
    "\n",
    "# Use describe() to get summary statistics\n",
    "print(\"\\nDescriptive Statistics:\")\n",
    "print(df.describe())\n",
    "\n",
    "# Use fillna() to handle missing values in the Age column\n",
    "df['Age'] = df['Age'].fillna(df['Age'].mean())\n",
    "\n",
    "# Use groupby() to calculate average salary by gender\n",
    "avg_salary = df.groupby('Gender')['Salary'].mean()\n",
    "print(\"\\nAverage Salary by Gender:\")\n",
    "print(avg_salary)\n",
    "\n",
    "# Use drop() to remove the Salary column\n",
    "df_dropped = df.drop(columns=['Salary'])\n",
    "print(\"\\nDataFrame after Dropping Salary Column:\")\n",
    "print(df_dropped)"
   ]
  },
  {
   "cell_type": "code",
   "execution_count": null,
   "id": "981d602d",
   "metadata": {},
   "outputs": [],
   "source": [
    "Q6. Which of the following is mutable in nature Series, DataFrame, Panel?"
   ]
  },
  {
   "cell_type": "code",
   "execution_count": null,
   "id": "7537818b",
   "metadata": {},
   "outputs": [],
   "source": [
    "In Pandas, both Series and DataFrame are mutable in nature, while Panel is a data structure that has been deprecated \n",
    "and is no longer recommended for use.\n",
    "\n",
    "Explanation of Mutability:\n",
    "\n",
    "1. Series: \n",
    "   - Mutable: You can change the values of elements in a Series after it has been created. You can also add or remove \n",
    "    elements.\n",
    "\n",
    "2. DataFrame: \n",
    "   - Mutable: You can modify the contents of a DataFrame by changing the values, adding new columns, or dropping \n",
    "    existing ones.\n",
    "\n",
    "3. Panel: \n",
    "   - Deprecated: While Panels were mutable, they are not commonly used anymore. Instead, you should use MultiIndex \n",
    "    DataFrames or xarray for handling three-dimensional data."
   ]
  },
  {
   "cell_type": "code",
   "execution_count": null,
   "id": "95212a53",
   "metadata": {},
   "outputs": [],
   "source": [
    "Q7. Create a DataFrame using multiple Series. Explain with an example."
   ]
  },
  {
   "cell_type": "code",
   "execution_count": null,
   "id": "9c40e500",
   "metadata": {},
   "outputs": [],
   "source": [
    "import pandas as pd\n",
    "\n",
    "# Create individual Series\n",
    "names = pd.Series(['Alice', 'Bob', 'Claire'])\n",
    "ages = pd.Series([25, 30, 27])\n",
    "genders = pd.Series(['Female', 'Male', 'Female'])\n",
    "\n",
    "# Create a DataFrame using the Series\n",
    "data = {\n",
    "    'Name': names,\n",
    "    'Age': ages,\n",
    "    'Gender': genders\n",
    "}\n",
    "df = pd.DataFrame(data)\n",
    "\n",
    "# Print the DataFrame\n",
    "print(df)"
   ]
  }
 ],
 "metadata": {
  "kernelspec": {
   "display_name": "Python 3 (ipykernel)",
   "language": "python",
   "name": "python3"
  },
  "language_info": {
   "codemirror_mode": {
    "name": "ipython",
    "version": 3
   },
   "file_extension": ".py",
   "mimetype": "text/x-python",
   "name": "python",
   "nbconvert_exporter": "python",
   "pygments_lexer": "ipython3",
   "version": "3.11.5"
  }
 },
 "nbformat": 4,
 "nbformat_minor": 5
}
