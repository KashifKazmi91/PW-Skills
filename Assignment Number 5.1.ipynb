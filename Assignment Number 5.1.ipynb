{
 "cells": [
  {
   "cell_type": "markdown",
   "id": "ccc0ca56",
   "metadata": {},
   "source": [
    "Q1. What is an Exception in python? Write the difference between Exceptions and Syntax errors."
   ]
  },
  {
   "cell_type": "code",
   "execution_count": 1,
   "id": "eb62651c",
   "metadata": {},
   "outputs": [
    {
     "name": "stdout",
     "output_type": "stream",
     "text": [
      "Exception occurred: division by zero\n"
     ]
    }
   ],
   "source": [
    "try:\n",
    "    x = 10 / 0 # Attempting to divide by zero\n",
    "except ZeroDivisionError as e:\n",
    "    print(\"Exception occurred:\", e)"
   ]
  },
  {
   "cell_type": "markdown",
   "id": "af168a49",
   "metadata": {},
   "source": [
    "Q2. What happens when an exception is not handled? Explain with an example."
   ]
  },
  {
   "cell_type": "code",
   "execution_count": 3,
   "id": "d895d9e3",
   "metadata": {},
   "outputs": [
    {
     "ename": "ZeroDivisionError",
     "evalue": "division by zero",
     "output_type": "error",
     "traceback": [
      "\u001b[1;31m---------------------------------------------------------------------------\u001b[0m",
      "\u001b[1;31mZeroDivisionError\u001b[0m                         Traceback (most recent call last)",
      "Cell \u001b[1;32mIn[3], line 2\u001b[0m\n\u001b[0;32m      1\u001b[0m \u001b[38;5;66;03m# Division operation without exception handling\u001b[39;00m\n\u001b[1;32m----> 2\u001b[0m result \u001b[38;5;241m=\u001b[39m \u001b[38;5;241m10\u001b[39m \u001b[38;5;241m/\u001b[39m \u001b[38;5;241m0\u001b[39m  \u001b[38;5;66;03m# This will raise a ZeroDivisionError\u001b[39;00m\n\u001b[0;32m      3\u001b[0m \u001b[38;5;28mprint\u001b[39m(\u001b[38;5;124m\"\u001b[39m\u001b[38;5;124mResult:\u001b[39m\u001b[38;5;124m\"\u001b[39m, result)\n",
      "\u001b[1;31mZeroDivisionError\u001b[0m: division by zero"
     ]
    }
   ],
   "source": [
    "# Division operation without exception handling\n",
    "result = 10 / 0  # This will raise a ZeroDivisionError\n",
    "print(\"Result:\", result)  # This line will not be executed if an exception occurs"
   ]
  },
  {
   "cell_type": "markdown",
   "id": "00551e95",
   "metadata": {},
   "source": [
    "Q3. Which Python statements are used to catch and handle exceptions? Explain with an example."
   ]
  },
  {
   "cell_type": "code",
   "execution_count": 4,
   "id": "1f849715",
   "metadata": {},
   "outputs": [
    {
     "name": "stdout",
     "output_type": "stream",
     "text": [
      "Result: 5.0\n",
      "Error: Division by zero!\n"
     ]
    }
   ],
   "source": [
    "def divide(x, y):\n",
    "    try:\n",
    "        result = x / y  # Division operation that may raise an exception\n",
    "        print(\"Result:\", result)  # This line will only execute if no exception occurs\n",
    "    except ZeroDivisionError:\n",
    "        print(\"Error: Division by zero!\")\n",
    "\n",
    "# Attempting division with exception handling\n",
    "divide(10, 2)  # Output: Result: 5.0\n",
    "divide(10, 0)  # Output: Error: Division by zero!"
   ]
  },
  {
   "cell_type": "markdown",
   "id": "3fd04ec8",
   "metadata": {},
   "source": [
    "Q4. Explain with an example:#\n",
    "\f",
    "\u001d",
    " try and else#\n",
    "\u0007\u001d",
    " finall\n",
    "\n",
    "+\u001d",
    " raise "
   ]
  },
  {
   "cell_type": "code",
   "execution_count": 5,
   "id": "becbf58a",
   "metadata": {},
   "outputs": [
    {
     "name": "stdout",
     "output_type": "stream",
     "text": [
      "Division successful!\n"
     ]
    }
   ],
   "source": [
    "# Try and Else\n",
    "try:\n",
    "    x = 10 / 2\n",
    "except ZeroDivisionError:\n",
    "    print(\"Error: Division by zero!\")\n",
    "else:\n",
    "    print(\"Division successful!\")"
   ]
  },
  {
   "cell_type": "code",
   "execution_count": 8,
   "id": "129b0356",
   "metadata": {},
   "outputs": [
    {
     "name": "stdout",
     "output_type": "stream",
     "text": [
      "Result: 5.0\n",
      "Finally block executed, regardless of whether an exception occurred or not.\n",
      "---\n",
      "Error: Division by zero!\n",
      "Finally block executed, regardless of whether an exception occurred or not.\n"
     ]
    }
   ],
   "source": [
    "#Finally\n",
    "def divide(x, y):\n",
    "    try:\n",
    "        result = x / y\n",
    "    except ZeroDivisionError:\n",
    "        print(\"Error: Division by zero!\")\n",
    "    else:\n",
    "        print(\"Result:\", result)\n",
    "    finally:\n",
    "        print(\"Finally block executed, regardless of whether an exception occurred or not.\")\n",
    "\n",
    "# Example usage\n",
    "divide(10, 2)  # Output: Result: 5.0, Finally block executed\n",
    "print(\"---\")\n",
    "divide(10, 0)  # Output: Error: Division by zero!, Finally block executed"
   ]
  },
  {
   "cell_type": "code",
   "execution_count": 7,
   "id": "ea6c9fd0",
   "metadata": {},
   "outputs": [
    {
     "name": "stdout",
     "output_type": "stream",
     "text": [
      "Age cannot be negative!\n"
     ]
    }
   ],
   "source": [
    "#raise\n",
    "def validate_age(age):\n",
    "    if age < 0:\n",
    "        raise ValueError(\"Age cannot be negative!\")\n",
    "    elif age < 18:\n",
    "        raise ValueError(\"You must be at least 18 years old.\")\n",
    "    else:\n",
    "        print(\"Age is valid.\")\n",
    "\n",
    "try:\n",
    "    validate_age(-5)\n",
    "except ValueError as e:\n",
    "    print(e)"
   ]
  },
  {
   "cell_type": "markdown",
   "id": "28c011a1",
   "metadata": {},
   "source": [
    "Q5. What are Custom Exceptions in python? Why do we need Custom Exceptions? Explain with an example."
   ]
  },
  {
   "cell_type": "code",
   "execution_count": 9,
   "id": "8885f4fe",
   "metadata": {},
   "outputs": [
    {
     "name": "stdout",
     "output_type": "stream",
     "text": [
      "Cannot withdraw $150. Insufficient balance ($100).\n"
     ]
    }
   ],
   "source": [
    "class WithdrawalError(Exception):\n",
    "    \"\"\"Exception raised for errors in withdrawal operations.\"\"\"\n",
    "    def __init__(self, balance, amount):\n",
    "        self.balance = balance\n",
    "        self.amount = amount\n",
    "        self.message = f\"Cannot withdraw ${amount}. Insufficient balance (${balance}).\"\n",
    "\n",
    "    def __str__(self):\n",
    "        return self.message\n",
    "\n",
    "class BankAccount:\n",
    "    def __init__(self, balance):\n",
    "        self.balance = balance\n",
    "\n",
    "    def withdraw(self, amount):\n",
    "        if amount > self.balance:\n",
    "            raise WithdrawalError(self.balance, amount)\n",
    "        else:\n",
    "            self.balance -= amount\n",
    "            print(f\"Withdrawal of ${amount} successful. New balance: ${self.balance}\")\n",
    "\n",
    "# Example usage\n",
    "account = BankAccount(100)\n",
    "try:\n",
    "    account.withdraw(150)\n",
    "except WithdrawalError as e:\n",
    "    print(e)"
   ]
  },
  {
   "cell_type": "markdown",
   "id": "cb8e9c5a",
   "metadata": {},
   "source": [
    "Q6. Create a custom exception class. Use this class to handle an exception."
   ]
  },
  {
   "cell_type": "code",
   "execution_count": 10,
   "id": "1f6a09db",
   "metadata": {},
   "outputs": [
    {
     "name": "stdout",
     "output_type": "stream",
     "text": [
      "Invalid input: abc\n"
     ]
    }
   ],
   "source": [
    "class InvalidInputError(Exception):\n",
    "    \"\"\"Exception raised for invalid input.\"\"\"\n",
    "    def __init__(self, input_value):\n",
    "        self.input_value = input_value\n",
    "        self.message = f\"Invalid input: {input_value}\"\n",
    "\n",
    "    def __str__(self):\n",
    "        return self.message\n",
    "\n",
    "def process_input(input_value):\n",
    "    if not isinstance(input_value, int):\n",
    "        raise InvalidInputError(input_value)\n",
    "    else:\n",
    "        print(\"Input processing successful.\")\n",
    "\n",
    "# Example usage\n",
    "try:\n",
    "    process_input(\"abc\")\n",
    "except InvalidInputError as e:\n",
    "    print(e)"
   ]
  },
  {
   "cell_type": "code",
   "execution_count": null,
   "id": "b43f15d8",
   "metadata": {},
   "outputs": [],
   "source": []
  }
 ],
 "metadata": {
  "kernelspec": {
   "display_name": "Python 3 (ipykernel)",
   "language": "python",
   "name": "python3"
  },
  "language_info": {
   "codemirror_mode": {
    "name": "ipython",
    "version": 3
   },
   "file_extension": ".py",
   "mimetype": "text/x-python",
   "name": "python",
   "nbconvert_exporter": "python",
   "pygments_lexer": "ipython3",
   "version": "3.11.5"
  }
 },
 "nbformat": 4,
 "nbformat_minor": 5
}
