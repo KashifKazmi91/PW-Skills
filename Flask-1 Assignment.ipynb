{
 "cells": [
  {
   "cell_type": "code",
   "execution_count": null,
   "id": "6170b0c6",
   "metadata": {},
   "outputs": [],
   "source": [
    "Q1. What is Flask Framework? What are the advantages of Flask Framework?"
   ]
  },
  {
   "cell_type": "code",
   "execution_count": null,
   "id": "a3d7f92f",
   "metadata": {},
   "outputs": [],
   "source": [
    "Flask is a lightweight and flexible web framework for Python, designed to make web development simple and efficient. \n",
    "It follows the WSGI (Web Server Gateway Interface) standard and is classified as a micro-framework because it provides \n",
    "the essential tools for building web applications without enforcing a specific project structure or requiring \n",
    "unnecessary dependencies. Flask is ideal for both small and large applications and supports extensions that add \n",
    "functionality as needed.\n",
    "\n",
    "Advantages of Flask Framework\n",
    "1. Simplicity and Flexibility:\n",
    "Flask's minimalistic design makes it easy to understand and use, allowing developers to focus on building their \n",
    "applications without being bogged down by unnecessary complexity.\n",
    "2. Lightweight:\n",
    "Being a micro-framework, Flask is lightweight and does not come with built-in features that may not be needed for \n",
    "every project, making it faster to set up and run.\n",
    "3. Modular Design:\n",
    "Flask supports a modular structure, enabling developers to create applications using blueprints, which allows for \n",
    "better organization and easier scaling.\n",
    "4. Extensible:\n",
    "Flask provides a variety of extensions that can add functionalities such as database integration, authentication, \n",
    "and form handling. This flexibility allows developers to choose only the components they need.\n",
    "5. Built-in Development Server:\n",
    "Flask includes a built-in development server, making it easy to test applications locally without the need for \n",
    "additional setup.\n",
    "6. Comprehensive Documentation:\n",
    "Flask has extensive and well-organized documentation, which helps developers quickly learn and implement features.\n",
    "7. Large Community Support:\n",
    "Being popular among developers, Flask has a vibrant community, meaning many resources, tutorials, and third-party \n",
    "libraries are available for assistance and collaboration.\n",
    "8. RESTful Request Dispatching:\n",
    "Flask supports RESTful architecture, making it straightforward to build APIs and web services.\n",
    "9. Jinja2 Templating:\n",
    "Flask uses Jinja2 as its default templating engine, allowing for powerful and dynamic HTML generation while keeping\n",
    "the code clean and maintainable"
   ]
  },
  {
   "cell_type": "code",
   "execution_count": null,
   "id": "aae73de6",
   "metadata": {},
   "outputs": [],
   "source": [
    "Q2. Create a simple Flask application to display ‘Hello World!!’. Attach the screenshot of the output in Jupyter Notebook."
   ]
  },
  {
   "cell_type": "code",
   "execution_count": null,
   "id": "a2b6d2bb",
   "metadata": {},
   "outputs": [],
   "source": [
    "pip install Flask"
   ]
  },
  {
   "cell_type": "code",
   "execution_count": null,
   "id": "155d27d9",
   "metadata": {},
   "outputs": [],
   "source": [
    "from flask import Flask\n",
    "\n",
    "# Create a Flask application instance\n",
    "app = Flask(__name__)\n",
    "\n",
    "# Define a route for the root URL\n",
    "@app.route('/')\n",
    "def hello_world():\n",
    "    return 'Hello World!!'\n",
    "\n",
    "# Run the app\n",
    "if __name__ == '__main__':\n",
    "    app.run(debug=True, use_reloader=False)"
   ]
  },
  {
   "cell_type": "code",
   "execution_count": null,
   "id": "4dcffb8d",
   "metadata": {},
   "outputs": [],
   "source": [
    "Q3. What is App routing in Flask? Why do we use app routes?"
   ]
  },
  {
   "cell_type": "code",
   "execution_count": null,
   "id": "cbcde9cc",
   "metadata": {},
   "outputs": [],
   "source": [
    "App routing in Flask refers to the mechanism of mapping URLs to specific functions (often called view functions) that \n",
    "handle requests for those URLs. This routing allows Flask applications to respond to different endpoints, directing \n",
    "incoming requests to the appropriate logic that processes them and generates responses.\n",
    "\n",
    "Why Do We Use App Routes?\n",
    "1. Organized URL Management: Routing helps maintain a clear structure for the application's URLs, making it easier to \n",
    "    manage and understand how different parts of the application are accessed.\n",
    "2. Separation of Concerns: By mapping specific URLs to functions, routing promotes the separation of concerns, allowing\n",
    "    each function to focus on a particular task (e.g., handling user authentication, displaying content).\n",
    "3. Dynamic Content Handling: Routes can be designed to handle dynamic data, allowing applications to generate content \n",
    "    based on user input or database queries.\n",
    "4. User-Friendly URLs: By defining meaningful routes, applications can provide user-friendly URLs that are easier for \n",
    "    users to remember and share.\n",
    "5. RESTful API Design: App routing is essential for creating RESTful APIs, where different routes correspond to \n",
    "    different actions (e.g., GET, POST, PUT, DELETE) for resource management."
   ]
  },
  {
   "cell_type": "code",
   "execution_count": null,
   "id": "2c031b6d",
   "metadata": {},
   "outputs": [],
   "source": [
    "#Example\n",
    "from flask import Flask\n",
    "\n",
    "app = Flask(__name__)\n",
    "\n",
    "@app.route('/')\n",
    "def home():\n",
    "    return 'Welcome to the Home Page!'\n",
    "\n",
    "@app.route('/about')\n",
    "def about():\n",
    "    return 'This is the About Page.'\n",
    "\n",
    "@app.route('/user/<username>')\n",
    "def user_profile(username):\n",
    "    return f'Hello, {username}!'\n",
    "\n",
    "if __name__ == '__main__':\n",
    "    app.run(debug=True)"
   ]
  },
  {
   "cell_type": "code",
   "execution_count": null,
   "id": "a4c61cbc",
   "metadata": {},
   "outputs": [],
   "source": [
    "Q4. Create a “/welcome” route to display the welcome message “Welcome to ABC Corporation” and a “/”\n",
    "route to show the following details:\n",
    "Company Name: ABC Corporation\n",
    "Location: India\n",
    "Contact Detail: 999-999-9999"
   ]
  },
  {
   "cell_type": "code",
   "execution_count": null,
   "id": "cd58c844",
   "metadata": {},
   "outputs": [],
   "source": [
    "from flask import Flask\n",
    "\n",
    "app = Flask(__name__)\n",
    "\n",
    "# Route for welcome message\n",
    "@app.route('/welcome')\n",
    "def welcome():\n",
    "    return 'Welcome to ABC Corporation'\n",
    "\n",
    "# Route for company details\n",
    "@app.route('/')\n",
    "def company_details():\n",
    "    return '''\n",
    "    <h1>Company Name: ABC Corporation</h1>\n",
    "    <p>Location: India</p>\n",
    "    <p>Contact Detail: 999-999-9999</p>\n",
    "    '''\n",
    "\n",
    "if __name__ == '__main__':\n",
    "    app.run(debug=True)"
   ]
  },
  {
   "cell_type": "code",
   "execution_count": null,
   "id": "8ef320f4",
   "metadata": {},
   "outputs": [],
   "source": [
    "Company Name: ABC Corporation\n",
    "Location: India\n",
    "Contact Detail: 999-999-9999"
   ]
  },
  {
   "cell_type": "code",
   "execution_count": null,
   "id": "0d6dd0ad",
   "metadata": {},
   "outputs": [],
   "source": [
    "Q5. What function is used in Flask for URL Building? Write a Python code to demonstrate the working of the\n",
    "url_for() function."
   ]
  },
  {
   "cell_type": "code",
   "execution_count": null,
   "id": "4f50dc0e",
   "metadata": {},
   "outputs": [],
   "source": [
    "from flask import Flask, url_for, redirect\n",
    "\n",
    "app = Flask(__name__)\n",
    "\n",
    "@app.route('/')\n",
    "def home():\n",
    "    return 'Welcome to the Home Page!'\n",
    "\n",
    "@app.route('/about')\n",
    "def about():\n",
    "    return 'This is the About Page.'\n",
    "\n",
    "@app.route('/redirect_to_about')\n",
    "def redirect_to_about():\n",
    "    # Using url_for to build the URL for the about function\n",
    "    return redirect(url_for('about'))\n",
    "\n",
    "if __name__ == '__main__':\n",
    "    app.run(debug=True)"
   ]
  }
 ],
 "metadata": {
  "kernelspec": {
   "display_name": "Python 3 (ipykernel)",
   "language": "python",
   "name": "python3"
  },
  "language_info": {
   "codemirror_mode": {
    "name": "ipython",
    "version": 3
   },
   "file_extension": ".py",
   "mimetype": "text/x-python",
   "name": "python",
   "nbconvert_exporter": "python",
   "pygments_lexer": "ipython3",
   "version": "3.11.5"
  }
 },
 "nbformat": 4,
 "nbformat_minor": 5
}
