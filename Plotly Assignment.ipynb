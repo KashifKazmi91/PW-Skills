{
 "cells": [
  {
   "cell_type": "code",
   "execution_count": null,
   "id": "0106aab0",
   "metadata": {},
   "outputs": [],
   "source": [
    "Q1. Load the \"titanic\" dataset using the load_dataset function of seaborn. Use Plotly express to plot a\n",
    "scatter plot for age and fare columns in the titanic dataset."
   ]
  },
  {
   "cell_type": "code",
   "execution_count": null,
   "id": "fe490dca",
   "metadata": {},
   "outputs": [],
   "source": [
    "import seaborn as sns\n",
    "import plotly.express as px\n",
    "\n",
    "# Load the 'titanic' dataset\n",
    "titanic = sns.load_dataset(\"titanic\")\n",
    "\n",
    "# Create a scatter plot using Plotly Express\n",
    "fig = px.scatter(titanic, x='age', y='fare', \n",
    "                 title='Scatter Plot of Age vs. Fare in Titanic Dataset',\n",
    "                 labels={'age': 'Age', 'fare': 'Fare'},\n",
    "                 color='survived',  # Optional: Color by survival status\n",
    "                 hover_data=['class', 'sex'])  # Optional: Additional info on hover\n",
    "\n",
    "# Show the plot\n",
    "fig.show()"
   ]
  },
  {
   "cell_type": "code",
   "execution_count": null,
   "id": "796dbfe8",
   "metadata": {},
   "outputs": [],
   "source": [
    "Q2. Using the tips dataset in the Plotly library, plot a box plot using Plotly express."
   ]
  },
  {
   "cell_type": "code",
   "execution_count": null,
   "id": "b7e54651",
   "metadata": {},
   "outputs": [],
   "source": [
    "import plotly.express as px\n",
    "\n",
    "# Load the 'tips' dataset\n",
    "tips = px.data.tips()\n",
    "\n",
    "# Create a box plot\n",
    "fig = px.box(tips, x='day', y='total_bill', \n",
    "             title='Box Plot of Total Bill by Day',\n",
    "             labels={'total_bill': 'Total Bill', 'day': 'Day of the Week'})\n",
    "\n",
    "# Show the plot\n",
    "fig.show()"
   ]
  },
  {
   "cell_type": "code",
   "execution_count": null,
   "id": "f79dabf7",
   "metadata": {},
   "outputs": [],
   "source": [
    "Q3. Using the tips dataset in the Plotly library, Plot a histogram for x= \"sex\" and y=\"total_bill\" column in\n",
    "the tips dataset. Also, use the \"smoker\" column with the pattern_shape parameter and the \"day\"\n",
    "column with the color parameter."
   ]
  },
  {
   "cell_type": "code",
   "execution_count": null,
   "id": "e8ccec10",
   "metadata": {},
   "outputs": [],
   "source": [
    "import plotly.express as px\n",
    "\n",
    "# Load the 'tips' dataset\n",
    "tips = px.data.tips()\n",
    "\n",
    "# Create a histogram\n",
    "fig = px.histogram(tips, \n",
    "                   x='sex', \n",
    "                   y='total_bill', \n",
    "                   title='Histogram of Total Bill by Sex',\n",
    "                   color='day',  # Color by day\n",
    "                   pattern_shape='smoker',  # Pattern shape by smoker status\n",
    "                   barmode='overlay')  # Overlay bars for better visibility\n",
    "\n",
    "# Show the plot\n",
    "fig.show()"
   ]
  },
  {
   "cell_type": "code",
   "execution_count": null,
   "id": "81ea965d",
   "metadata": {},
   "outputs": [],
   "source": [
    "Q4. Using the iris dataset in the Plotly library, Plot a scatter matrix plot, using the \"species\" column for\n",
    "the color parameter.\n",
    "Note: Use \"sepal_length\", \"sepal_width\", \"petal_length\", \"petal_width\" columns only with the\n",
    "dimensions parameter."
   ]
  },
  {
   "cell_type": "code",
   "execution_count": null,
   "id": "0a5ac597",
   "metadata": {},
   "outputs": [],
   "source": [
    "import plotly.express as px\n",
    "\n",
    "# Load the 'iris' dataset\n",
    "iris = px.data.iris()\n",
    "\n",
    "# Create a scatter matrix plot\n",
    "fig = px.scatter_matrix(\n",
    "    iris,\n",
    "    dimensions=[\"sepal_length\", \"sepal_width\", \"petal_length\", \"petal_width\"],\n",
    "    color=\"species\",\n",
    "    title=\"Scatter Matrix of Iris Dataset\"\n",
    ")\n",
    "\n",
    "# Show the plot\n",
    "fig.show()"
   ]
  },
  {
   "cell_type": "code",
   "execution_count": null,
   "id": "f867cab2",
   "metadata": {},
   "outputs": [],
   "source": [
    "Q5. What is Distplot? Using Plotly express, plot a distplot."
   ]
  },
  {
   "cell_type": "code",
   "execution_count": null,
   "id": "892d7702",
   "metadata": {},
   "outputs": [],
   "source": [
    "In Seaborn, a Distplot (distribution plot) is used to visualize the distribution of a dataset. \n",
    "It combines a histogram and a kernel density estimate (KDE) to provide insights into the underlying \n",
    "distribution of the data. However, since Seaborn's Distplot is not directly available in Plotly, you \n",
    "can achieve a similar effect using the histogram and kde options in Plotly Express."
   ]
  },
  {
   "cell_type": "code",
   "execution_count": null,
   "id": "9181e638",
   "metadata": {},
   "outputs": [],
   "source": [
    "import plotly.express as px\n",
    "\n",
    "# Load the 'tips' dataset\n",
    "tips = px.data.tips()\n",
    "\n",
    "# Create a distribution plot for the 'total_bill' column\n",
    "fig = px.histogram(tips, \n",
    "                   x='total_bill', \n",
    "                   title='Distribution of Total Bill',\n",
    "                   marginal='violin',  # Adds a violin plot on the side for density\n",
    "                   nbins=30,           # Number of bins\n",
    "                   opacity=0.7)\n",
    "\n",
    "# Add a KDE plot overlay\n",
    "fig.add_trace(px.density_contour(tips, x='total_bill').data[0])\n",
    "\n",
    "# Show the plot\n",
    "fig.show()\n"
   ]
  }
 ],
 "metadata": {
  "kernelspec": {
   "display_name": "Python 3 (ipykernel)",
   "language": "python",
   "name": "python3"
  },
  "language_info": {
   "codemirror_mode": {
    "name": "ipython",
    "version": 3
   },
   "file_extension": ".py",
   "mimetype": "text/x-python",
   "name": "python",
   "nbconvert_exporter": "python",
   "pygments_lexer": "ipython3",
   "version": "3.11.5"
  }
 },
 "nbformat": 4,
 "nbformat_minor": 5
}
