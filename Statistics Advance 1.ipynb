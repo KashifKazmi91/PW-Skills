{
 "cells": [
  {
   "cell_type": "code",
   "execution_count": null,
   "id": "03b3bf7f",
   "metadata": {},
   "outputs": [],
   "source": [
    "Q1. What is the Probability density function?"
   ]
  },
  {
   "cell_type": "code",
   "execution_count": null,
   "id": "8fba20ba",
   "metadata": {},
   "outputs": [],
   "source": [
    "The Probability Density Function (PDF) is a fundamental concept in probability theory and statistics, particularly in \n",
    "the context of continuous random variables. It describes the likelihood of a random variable taking on a particular \n",
    "value."
   ]
  },
  {
   "cell_type": "code",
   "execution_count": null,
   "id": "ab49f4cc",
   "metadata": {},
   "outputs": [],
   "source": [
    "Q2. What are the types of Probability distribution?"
   ]
  },
  {
   "cell_type": "code",
   "execution_count": null,
   "id": "fcc9ce92",
   "metadata": {},
   "outputs": [],
   "source": [
    "Probability distributions can be broadly classified into two main categories: discrete probability distributions\n",
    "and continuous probability distributions. Each category includes various specific distributions, each with unique \n",
    "characteristics and applications.\n",
    "\n",
    "1. Discrete Probability Distributions\n",
    "Discrete probability distributions are used for discrete random variables, which can take on a countable number of \n",
    "values. Here are some common types:\n",
    "\n",
    "- Binomial Distribution:\n",
    "  - Models the number of successes in a fixed number of independent Bernoulli trials (e.g., flipping a coin).\n",
    "- Poisson Distribution:\n",
    "  - Represents the number of events occurring in a fixed interval of time or space, given a constant mean rate and \n",
    "independence of events (e.g., phone call arrivals at a call center).\n",
    "- Geometric Distribution:\n",
    "  - Models the number of trials needed to get the first success in a series of independent Bernoulli trials.\n",
    "- Negative Binomial Distribution:\n",
    "  - Extends the geometric distribution to model the number of trials required to achieve a specified number of \n",
    "successes.\n",
    "- Hypergeometric Distribution:\n",
    "  - Models the number of successes in a sequence of draws without replacement from a finite population.\n",
    "\n",
    "2. Continuous Probability Distributions\n",
    "Continuous probability distributions are used for continuous random variables, which can take on any value within a \n",
    "given range. Here are some common types:\n",
    "- Normal Distribution (Gaussian Distribution):\n",
    "  - Characterized by its bell-shaped curve, defined by its mean and standard deviation. It describes many natural \n",
    "phenomena (e.g., heights, test scores).\n",
    "- Uniform Distribution:\n",
    "  - All outcomes in a specified range are equally likely (e.g., rolling a fair die).\n",
    "- Exponential Distribution:\n",
    "  - Describes the time between events in a Poisson process, characterized by its rate parameter (e.g., time until a \n",
    "radioactive particle decays).\n",
    "- Log-Normal Distribution:\n",
    "  - If a random variable is normally distributed when its logarithm is taken, it follows a log-normal distribution. \n",
    "Often used in finance for modeling stock prices.\n",
    "- Chi-Squared Distribution:\n",
    "  - Used in hypothesis testing and confidence interval estimation, particularly in tests of goodness of fit and \n",
    "independence.\n",
    "- Student's t-Distribution:\n",
    "  - Similar to the normal distribution but with heavier tails, useful for estimating population parameters when the \n",
    "sample size is small."
   ]
  },
  {
   "cell_type": "code",
   "execution_count": null,
   "id": "d65cfe82",
   "metadata": {},
   "outputs": [],
   "source": [
    "Q3. Write a Python function to calculate the probability density function of a normal distribution with\n",
    "given mean and standard deviation at a given point."
   ]
  },
  {
   "cell_type": "code",
   "execution_count": null,
   "id": "a665aff8",
   "metadata": {},
   "outputs": [],
   "source": [
    "import numpy as np\n",
    "\n",
    "def normal_pdf(x, mean, std_dev):\n",
    "    \"\"\"\n",
    "    Calculate the probability density function of a normal distribution.\n",
    "    \n",
    "    Parameters:\n",
    "    x (float): The point at which to evaluate the PDF.\n",
    "    mean (float): The mean (μ) of the distribution.\n",
    "    std_dev (float): The standard deviation (σ) of the distribution.\n",
    "    \n",
    "    Returns:\n",
    "    float: The value of the PDF at point x.\n",
    "    \"\"\"\n",
    "    coefficient = 1 / (std_dev * np.sqrt(2 * np.pi))\n",
    "    exponent = -((x - mean) ** 2) / (2 * std_dev ** 2)\n",
    "    return coefficient * np.exp(exponent)\n",
    "\n",
    "# Example usage\n",
    "mean = 0\n",
    "std_dev = 1\n",
    "point = 1.0\n",
    "pdf_value = normal_pdf(point, mean, std_dev)\n",
    "print(f\"The PDF of the normal distribution at x={point} is {pdf_value:.4f}\")"
   ]
  },
  {
   "cell_type": "code",
   "execution_count": null,
   "id": "ca702be8",
   "metadata": {},
   "outputs": [],
   "source": [
    "Q4. What are the properties of Binomial distribution? Give two examples of events where binomial\n",
    "distribution can be applied."
   ]
  },
  {
   "cell_type": "code",
   "execution_count": null,
   "id": "f184df53",
   "metadata": {},
   "outputs": [],
   "source": [
    "The binomial distribution is a discrete probability distribution that models the number of successes in a fixed number \n",
    "of independent Bernoulli trials, each with the same probability of success. Here are its key properties:\n",
    "\n",
    "Properties of Binomial Distribution\n",
    "1. Fixed Number of Trials:\n",
    "   - The experiment consists of a fixed number (n) of independent trials.\n",
    "2. Two Possible Outcomes:\n",
    "   - Each trial results in one of two outcomes: \"success\" (usually denoted as 1) or \"failure\" (denoted as 0).\n",
    "3. Constant Probability of Success:\n",
    "   - The probability of success (p) remains constant for each trial. Consequently, the probability of failure is \n",
    "(q = 1 - p)\n",
    "4. Independence:\n",
    "   - The trials are independent; the outcome of one trial does not affect the outcome of another.\n",
    "5. Mean and Variance:\n",
    "   - The mean (expected value) of a binomial distribution is (E(X) = np)\n",
    "   - The variance is (Var(X) = np(1-p))\n",
    "\n",
    "Examples of Events Where Binomial Distribution Can Be Applied\n",
    "1. Coin Tossing:\n",
    "   - Example: Tossing a fair coin 10 times. Here, the number of heads (successes) can be modeled using a binomial \n",
    "distribution where (n = 10) and (p = 0.5) (the probability of getting heads).\n",
    "\n",
    "2. Quality Control:\n",
    "   - Example: In a factory, a quality control inspector tests 20 light bulbs to check if they are defective. \n",
    "If the probability of a bulb being defective is 0.1, the number of defective bulbs found in the sample can be modeled\n",
    "by a binomial distribution with (n = 20) and (p = 0.1)."
   ]
  },
  {
   "cell_type": "code",
   "execution_count": null,
   "id": "b8b7f14d",
   "metadata": {},
   "outputs": [],
   "source": [
    "Q5. Generate a random sample of size 1000 from a binomial distribution with probability of success 0.4\n",
    "and plot a histogram of the results using matplotlib."
   ]
  },
  {
   "cell_type": "code",
   "execution_count": null,
   "id": "9be03d14",
   "metadata": {},
   "outputs": [],
   "source": [
    "import numpy as np\n",
    "import matplotlib.pyplot as plt\n",
    "\n",
    "# Parameters for the binomial distribution\n",
    "n = 10  # Number of trials\n",
    "p = 0.4  # Probability of success\n",
    "sample_size = 1000  # Size of the random sample\n",
    "\n",
    "# Generate random samples from a binomial distribution\n",
    "random_samples = np.random.binomial(n, p, sample_size)\n",
    "\n",
    "# Plotting the histogram\n",
    "plt.figure(figsize=(10, 6))\n",
    "plt.hist(random_samples, bins=np.arange(-0.5, n+1.5, 1), density=True, alpha=0.7, color='blue', edgecolor='black')\n",
    "plt.title('Histogram of Random Samples from Binomial Distribution')\n",
    "plt.xlabel('Number of Successes')\n",
    "plt.ylabel('Probability Density')\n",
    "plt.xticks(range(n + 1))  # Set x-ticks to show integer values only\n",
    "plt.grid(axis='y', alpha=0.75)\n",
    "plt.show()"
   ]
  },
  {
   "cell_type": "code",
   "execution_count": null,
   "id": "5dcd946e",
   "metadata": {},
   "outputs": [],
   "source": [
    "Q6. Write a Python function to calculate the cumulative distribution function of a Poisson distribution\n",
    "with given mean at a given point."
   ]
  },
  {
   "cell_type": "code",
   "execution_count": null,
   "id": "17afcf3b",
   "metadata": {},
   "outputs": [],
   "source": [
    "import numpy as np\n",
    "from scipy.stats import poisson\n",
    "\n",
    "def poisson_cdf(k, mean):\n",
    "    \"\"\"\n",
    "    Calculate the cumulative distribution function of a Poisson distribution.\n",
    "    \n",
    "    Parameters:\n",
    "    k (int): The point at which to evaluate the CDF.\n",
    "    mean (float): The mean (λ) of the distribution.\n",
    "    \n",
    "    Returns:\n",
    "    float: The value of the CDF at point k.\n",
    "    \"\"\"\n",
    "    # Calculate the CDF using the poisson.cdf function from scipy.stats\n",
    "    cdf_value = poisson.cdf(k, mean)\n",
    "    return cdf_value\n",
    "\n",
    "# Example usage\n",
    "mean = 3.5\n",
    "point = 5\n",
    "cdf_value = poisson_cdf(point, mean)\n",
    "print(f\"The CDF of the Poisson distribution at k={point} with mean={mean} is {cdf_value:.4f}\")"
   ]
  },
  {
   "cell_type": "code",
   "execution_count": null,
   "id": "08c3bb49",
   "metadata": {},
   "outputs": [],
   "source": [
    "Q7. How Binomial distribution different from Poisson distribution?"
   ]
  },
  {
   "cell_type": "code",
   "execution_count": null,
   "id": "71a0c725",
   "metadata": {},
   "outputs": [],
   "source": [
    "The Binomial distribution and Poisson distribution are both discrete probability distributions, but they have different\n",
    "characteristics and are used in different scenarios. Here are the key differences:\n",
    "\n",
    "1. Nature of Trials\n",
    "- Binomial Distribution:\n",
    "  - Involves a fixed number of trials (n)\n",
    "  - Each trial has two possible outcomes: success or failure\n",
    "  - The probability of success (p) is constant for each trial\n",
    "\n",
    "- Poisson Distribution:\n",
    "  - Typically used to model the number of events occurring in a fixed interval of time or space.\n",
    "  - Does not have a fixed number of trials; instead, it is defined by the average rate of occurrence (lambda).\n",
    "  - Assumes that events occur independently and are uniformly distributed over time or space.\n",
    "\n",
    "2. Parameters\n",
    "- Binomial Distribution:\n",
    "  - Defined by two parameters: the number of trials (n) and the probability of success (p).\n",
    "  \n",
    "- Poisson Distribution:\n",
    "  - Defined by a single parameter (lambda) (the average number of events in the interval).\n",
    "\n",
    "3. Applications\n",
    "- Binomial Distribution:\n",
    "  - Used when the number of trials is fixed and the outcome is binary (e.g., flipping a coin a certain number of times, \n",
    "quality control in manufacturing).\n",
    "\n",
    "- Poisson Distribution:\n",
    "  - Used for modeling the number of times an event occurs in a fixed interval (e.g., number of phone calls received at \n",
    "a call center in an hour, number of decay events per unit time from a radioactive source).\n",
    "\n",
    "4. Distribution Shape\n",
    "- Binomial Distribution:\n",
    "  - Can take various shapes depending on (n) and (p). It can be symmetric (when (p = 0.5)) or skewed (when (p < 0.5) \n",
    "or (p > 0.5)).\n",
    "\n",
    "- Poisson Distribution:\n",
    "  - Generally skewed, especially for smaller values of (lambda). As (lambda) increases, the distribution approaches a \n",
    "normal distribution.\n",
    "\n",
    "5. Limitations\n",
    "- Binomial Distribution:\n",
    "  - Requires the number of trials to be fixed and independent with a constant probability of success.\n",
    "\n",
    "- Poisson Distribution:\n",
    "  - Assumes events are rare and independent, and can be approximated using a binomial distribution when (n) is large \n",
    "and (p) is small (i.e., (np) is constant)."
   ]
  },
  {
   "cell_type": "code",
   "execution_count": null,
   "id": "4e3365e6",
   "metadata": {},
   "outputs": [],
   "source": [
    "Q8. Generate a random sample of size 1000 from a Poisson distribution with mean 5 and calculate the\n",
    "sample mean and variance."
   ]
  },
  {
   "cell_type": "code",
   "execution_count": null,
   "id": "eb27754e",
   "metadata": {},
   "outputs": [],
   "source": [
    "import numpy as np\n",
    "\n",
    "# Parameters for the Poisson distribution\n",
    "mean = 5  # Mean (λ)\n",
    "sample_size = 1000  # Size of the random sample\n",
    "\n",
    "# Generate random samples from a Poisson distribution\n",
    "random_samples = np.random.poisson(mean, sample_size)\n",
    "\n",
    "# Calculate sample mean and variance\n",
    "sample_mean = np.mean(random_samples)\n",
    "sample_variance = np.var(random_samples)\n",
    "\n",
    "# Print the results\n",
    "print(f\"Sample Mean: {sample_mean}\")\n",
    "print(f\"Sample Variance: {sample_variance}\")"
   ]
  },
  {
   "cell_type": "code",
   "execution_count": null,
   "id": "84623c3b",
   "metadata": {},
   "outputs": [],
   "source": [
    "Q9. How mean and variance are related in Binomial distribution and Poisson distribution?"
   ]
  },
  {
   "cell_type": "code",
   "execution_count": null,
   "id": "61134ffe",
   "metadata": {},
   "outputs": [],
   "source": [
    "In both the Binomial distribution and the Poisson distribution, there is a specific relationship between the mean and \n",
    "variance. Here's how they are related in each case:\n",
    "\n",
    "Binomial Distribution\n",
    "For a Binomial distribution with parameters:\n",
    "- ( n ): number of trials\n",
    "- ( p ): probability of success on each trial\n",
    "\n",
    "Poisson Distribution\n",
    "For a Poisson distribution with parameter:\n",
    "- ( lambda ): average rate of occurrence (mean)\n",
    "\n",
    "Relationship in Poisson Distribution:\n",
    "- The mean and variance are equal, both being ( lambda ).\n",
    "- This unique property implies that as the average rate of occurrence increases, the variability also increases in \n",
    "a directly proportional manner."
   ]
  },
  {
   "cell_type": "code",
   "execution_count": null,
   "id": "9e134b48",
   "metadata": {},
   "outputs": [],
   "source": [
    "Q10. In normal distribution with respect to mean position, where does the least frequent data appear?"
   ]
  },
  {
   "cell_type": "code",
   "execution_count": null,
   "id": "221c52d8",
   "metadata": {},
   "outputs": [],
   "source": [
    "In a normal distribution, which is symmetric and bell-shaped, the least frequent data appears at the extreme ends \n",
    "of the distribution, farthest from the mean.\n",
    "\n",
    "Key Points:\n",
    "1. Mean Position:\n",
    "   - The mean ((mu)) is located at the center of the distribution. In a normal distribution, the mean, median, and \n",
    "mode are all equal and positioned at the center.\n",
    "\n",
    "2. Data Frequency:\n",
    "   - As you move away from the mean toward either tail of the distribution (the left and right extremes), the frequency\n",
    "of data points decreases.\n",
    "   - The highest frequency of data occurs at the mean, while the frequency of data points diminishes as you move toward\n",
    "the tails.\n",
    "\n",
    "3. Least Frequent Data:\n",
    "   - The least frequent data points are found in the far left and far right tails of the distribution. These areas \n",
    "contain extreme values that are less likely to occur compared to values closer to the mean.\n",
    "\n",
    "Visualization:\n",
    "In a graphical representation of a normal distribution:\n",
    "- The peak of the curve represents the highest frequency (at the mean).\n",
    "- The tails on both ends drop off, indicating that extreme values (far from the mean) are less frequent."
   ]
  }
 ],
 "metadata": {
  "kernelspec": {
   "display_name": "Python 3 (ipykernel)",
   "language": "python",
   "name": "python3"
  },
  "language_info": {
   "codemirror_mode": {
    "name": "ipython",
    "version": 3
   },
   "file_extension": ".py",
   "mimetype": "text/x-python",
   "name": "python",
   "nbconvert_exporter": "python",
   "pygments_lexer": "ipython3",
   "version": "3.11.5"
  }
 },
 "nbformat": 4,
 "nbformat_minor": 5
}
