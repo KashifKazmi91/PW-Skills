{
 "cells": [
  {
   "cell_type": "markdown",
   "id": "b3fda2a2",
   "metadata": {},
   "source": [
    "Q1. What is multithreading in python? Why is it used? Name the module used to handle threads in python."
   ]
  },
  {
   "cell_type": "markdown",
   "id": "984a7799",
   "metadata": {},
   "source": [
    "Multithreading is used for several reasons:\n",
    "\n",
    "    Concurrency: Multithreading enables concurrent execution of tasks, allowing programs to perform multiple operations simultaneously. This is particularly useful for applications that need to handle multiple tasks concurrently, such as servers handling multiple client connections or GUI applications responding to user interactions while performing background tasks.\n",
    "\n",
    "    Performance: Multithreading can improve the performance of certain types of programs by leveraging multiple CPU cores or by overlapping I/O-bound operations with computation. This can lead to better resource utilization and reduced overall execution time.\n",
    "\n",
    "    Responsiveness: Multithreading can improve the responsiveness of interactive applications by keeping the user interface (UI) responsive while performing computationally intensive or blocking operations in the background.\n",
    "\n",
    "    Asynchronous Programming: Multithreading is often used to implement asynchronous programming models, where tasks can execute concurrently and communicate with each other using synchronization primitives like locks, semaphores, or queues."
   ]
  },
  {
   "cell_type": "code",
   "execution_count": 1,
   "id": "a3df3a99",
   "metadata": {},
   "outputs": [
    {
     "name": "stdout",
     "output_type": "stream",
     "text": [
      "0\n",
      "1\n",
      "2\n",
      "3\n",
      "4\n",
      "Thread execution finished.\n"
     ]
    }
   ],
   "source": [
    "import threading\n",
    "import time\n",
    "\n",
    "def print_numbers():\n",
    "    for i in range(5):\n",
    "        print(i)\n",
    "        time.sleep(1)\n",
    "\n",
    "# Create a thread\n",
    "thread = threading.Thread(target=print_numbers)\n",
    "\n",
    "# Start the thread\n",
    "thread.start()\n",
    "\n",
    "# Wait for the thread to finish\n",
    "thread.join()\n",
    "\n",
    "print(\"Thread execution finished.\")"
   ]
  },
  {
   "cell_type": "markdown",
   "id": "1a5275ff",
   "metadata": {},
   "source": [
    "Q2. Why threading module used? Write the use of the following functions?\n",
    "activeCount()\n",
    "currentThread()\n",
    "enumerate()"
   ]
  },
  {
   "cell_type": "markdown",
   "id": "8ea0de13",
   "metadata": {},
   "source": [
    "activeCount(): This function returns the number of Thread objects currently alive. It includes both daemon and non-daemon threads."
   ]
  },
  {
   "cell_type": "code",
   "execution_count": 2,
   "id": "246264af",
   "metadata": {},
   "outputs": [
    {
     "name": "stdout",
     "output_type": "stream",
     "text": [
      "Worker threadNumber of active threads: 7\n"
     ]
    },
    {
     "name": "stderr",
     "output_type": "stream",
     "text": [
      "C:\\Users\\kazmi\\AppData\\Local\\Temp\\ipykernel_2488\\2182487468.py:10: DeprecationWarning: activeCount() is deprecated, use active_count() instead\n",
      "  print(\"Number of active threads:\", threading.activeCount())\n"
     ]
    },
    {
     "name": "stdout",
     "output_type": "stream",
     "text": [
      "\n"
     ]
    }
   ],
   "source": [
    "import threading\n",
    "\n",
    "def worker():\n",
    "    print(\"Worker thread\")\n",
    "\n",
    "# Create and start a thread\n",
    "thread = threading.Thread(target=worker)\n",
    "thread.start()\n",
    "\n",
    "print(\"Number of active threads:\", threading.activeCount())"
   ]
  },
  {
   "cell_type": "markdown",
   "id": "b73ec4ea",
   "metadata": {},
   "source": [
    "currentThread(): This function returns the current Thread object, representing the thread from which it is called."
   ]
  },
  {
   "cell_type": "code",
   "execution_count": 3,
   "id": "24f8f132",
   "metadata": {},
   "outputs": [
    {
     "name": "stdout",
     "output_type": "stream",
     "text": [
      "Current thread: Thread-7 (print_current_thread)\n"
     ]
    },
    {
     "name": "stderr",
     "output_type": "stream",
     "text": [
      "C:\\Users\\kazmi\\AppData\\Local\\Temp\\ipykernel_2488\\319686932.py:4: DeprecationWarning: currentThread() is deprecated, use current_thread() instead\n",
      "  current_thread = threading.currentThread()\n"
     ]
    }
   ],
   "source": [
    "import threading\n",
    "\n",
    "def print_current_thread():\n",
    "    current_thread = threading.currentThread()\n",
    "    print(\"Current thread:\", current_thread.name)\n",
    "\n",
    "# Create and start a thread\n",
    "thread = threading.Thread(target=print_current_thread)\n",
    "thread.start()"
   ]
  },
  {
   "cell_type": "markdown",
   "id": "3db8e70e",
   "metadata": {},
   "source": [
    "enumerate(): This function returns a list of all Thread objects currently alive. It includes both daemon and non-daemon threads. Each Thread object in the list represents an active thread."
   ]
  },
  {
   "cell_type": "code",
   "execution_count": 4,
   "id": "41c2a062",
   "metadata": {},
   "outputs": [
    {
     "name": "stdout",
     "output_type": "stream",
     "text": [
      "Worker thread\n",
      "Worker thread\n",
      "Worker thread\n",
      "Worker thread\n",
      "Worker thread\n",
      "Active threads:\n",
      "MainThread\n",
      "IOPub\n",
      "Heartbeat\n",
      "Control\n",
      "IPythonHistorySavingThread\n",
      "Thread-4\n"
     ]
    }
   ],
   "source": [
    "import threading\n",
    "\n",
    "def worker():\n",
    "    print(\"Worker thread\")\n",
    "\n",
    "# Create and start multiple threads\n",
    "threads = []\n",
    "for i in range(5):\n",
    "    thread = threading.Thread(target=worker)\n",
    "    threads.append(thread)\n",
    "    thread.start()\n",
    "\n",
    "# Enumerate all active threads\n",
    "active_threads = threading.enumerate()\n",
    "print(\"Active threads:\")\n",
    "for thread in active_threads:\n",
    "    print(thread.name)"
   ]
  },
  {
   "cell_type": "markdown",
   "id": "48049f95",
   "metadata": {},
   "source": [
    "Q3. Explain the following functions?\n",
    "run()\n",
    "start()\n",
    "join()\n",
    "isAlive()"
   ]
  },
  {
   "cell_type": "markdown",
   "id": "d2133ead",
   "metadata": {},
   "source": [
    "run(): The run() method is not a function but a method that you define in a class that inherits from the threading.Thread class. This method represents the activity that the thread performs. When you start a thread using the start() method, it calls the run() method internally to execute the target function passed to the Thread constructor."
   ]
  },
  {
   "cell_type": "code",
   "execution_count": 5,
   "id": "2c38ceeb",
   "metadata": {},
   "outputs": [
    {
     "name": "stdout",
     "output_type": "stream",
     "text": [
      "Thread is running\n"
     ]
    }
   ],
   "source": [
    "import threading\n",
    "\n",
    "class MyThread(threading.Thread):\n",
    "    def run(self):\n",
    "        print(\"Thread is running\")\n",
    "\n",
    "# Create and start a thread\n",
    "thread = MyThread()\n",
    "thread.start()"
   ]
  },
  {
   "cell_type": "markdown",
   "id": "e05d9cb5",
   "metadata": {},
   "source": [
    "start(): The start() method is used to start the execution of a thread. It initializes the thread and calls its run() method. Once a thread is started, it begins executing concurrently with other threads in the program."
   ]
  },
  {
   "cell_type": "code",
   "execution_count": 6,
   "id": "9451495d",
   "metadata": {},
   "outputs": [
    {
     "name": "stdout",
     "output_type": "stream",
     "text": [
      "0\n",
      "1\n",
      "2\n",
      "3\n",
      "4\n"
     ]
    }
   ],
   "source": [
    "import threading\n",
    "\n",
    "def print_numbers():\n",
    "    for i in range(5):\n",
    "        print(i)\n",
    "\n",
    "# Create and start a thread\n",
    "thread = threading.Thread(target=print_numbers)\n",
    "thread.start()"
   ]
  },
  {
   "cell_type": "markdown",
   "id": "2700e168",
   "metadata": {},
   "source": [
    "join(): The join() method is used to wait for a thread to finish its execution. It blocks the calling thread until the thread on which it is called terminates. This is useful when you want to ensure that a thread completes its task before proceeding further in the main program."
   ]
  },
  {
   "cell_type": "code",
   "execution_count": 7,
   "id": "38ca4914",
   "metadata": {},
   "outputs": [
    {
     "name": "stdout",
     "output_type": "stream",
     "text": [
      "0\n",
      "1\n",
      "2\n",
      "3\n",
      "4\n",
      "Thread execution finished.\n"
     ]
    }
   ],
   "source": [
    "import threading\n",
    "\n",
    "def print_numbers():\n",
    "    for i in range(5):\n",
    "        print(i)\n",
    "\n",
    "# Create and start a thread\n",
    "thread = threading.Thread(target=print_numbers)\n",
    "thread.start()\n",
    "\n",
    "# Wait for the thread to finish\n",
    "thread.join()\n",
    "\n",
    "print(\"Thread execution finished.\")"
   ]
  },
  {
   "cell_type": "markdown",
   "id": "796ffa12",
   "metadata": {},
   "source": [
    "isAlive(): The isAlive() method returns a boolean value indicating whether the thread is currently executing (True) or has completed its execution (False). It's useful for checking the status of a thread, especially when you need to perform actions based on whether a thread is still active."
   ]
  },
  {
   "cell_type": "code",
   "execution_count": 8,
   "id": "3e4c1514",
   "metadata": {},
   "outputs": [
    {
     "ename": "AttributeError",
     "evalue": "'Thread' object has no attribute 'isAlive'",
     "output_type": "error",
     "traceback": [
      "\u001b[1;31m---------------------------------------------------------------------------\u001b[0m",
      "\u001b[1;31mAttributeError\u001b[0m                            Traceback (most recent call last)",
      "Cell \u001b[1;32mIn[8], line 12\u001b[0m\n\u001b[0;32m      9\u001b[0m thread\u001b[38;5;241m.\u001b[39mstart()\n\u001b[0;32m     11\u001b[0m \u001b[38;5;66;03m# Check if the thread is alive\u001b[39;00m\n\u001b[1;32m---> 12\u001b[0m \u001b[38;5;28mprint\u001b[39m(\u001b[38;5;124m\"\u001b[39m\u001b[38;5;124mIs thread alive?\u001b[39m\u001b[38;5;124m\"\u001b[39m, thread\u001b[38;5;241m.\u001b[39misAlive())\n\u001b[0;32m     14\u001b[0m \u001b[38;5;66;03m# Wait for the thread to finish\u001b[39;00m\n\u001b[0;32m     15\u001b[0m thread\u001b[38;5;241m.\u001b[39mjoin()\n",
      "\u001b[1;31mAttributeError\u001b[0m: 'Thread' object has no attribute 'isAlive'"
     ]
    }
   ],
   "source": [
    "import threading\n",
    "import time\n",
    "\n",
    "def my_function():\n",
    "    time.sleep(2)\n",
    "\n",
    "# Create and start a thread\n",
    "thread = threading.Thread(target=my_function)\n",
    "thread.start()\n",
    "\n",
    "# Check if the thread is alive\n",
    "print(\"Is thread alive?\", thread.isAlive())\n",
    "\n",
    "# Wait for the thread to finish\n",
    "thread.join()\n",
    "\n",
    "# Check again after joining\n",
    "print(\"Is thread alive?\", thread.isAlive())"
   ]
  },
  {
   "cell_type": "markdown",
   "id": "50c49537",
   "metadata": {},
   "source": [
    "Q4.  Write a python program to create two threads. Thread one must print the list of squares and thread two must print the list of cubes."
   ]
  },
  {
   "cell_type": "code",
   "execution_count": 9,
   "id": "7b7954f0",
   "metadata": {},
   "outputs": [
    {
     "name": "stdout",
     "output_type": "stream",
     "text": [
      "List of squares:\n",
      "1\n",
      "4\n",
      "9\n",
      "16\n",
      "25\n",
      "36\n",
      "49\n",
      "64\n",
      "81\n",
      "100\n",
      "List of cubes:\n",
      "1\n",
      "8\n",
      "27\n",
      "64\n",
      "125\n",
      "216\n",
      "343\n",
      "512\n",
      "729\n",
      "1000\n",
      "Main thread exiting.\n"
     ]
    }
   ],
   "source": [
    "import threading\n",
    "\n",
    "def print_squares():\n",
    "    squares = [x * x for x in range(1, 11)]\n",
    "    print(\"List of squares:\")\n",
    "    for square in squares:\n",
    "        print(square)\n",
    "\n",
    "def print_cubes():\n",
    "    cubes = [x * x * x for x in range(1, 11)]\n",
    "    print(\"List of cubes:\")\n",
    "    for cube in cubes:\n",
    "        print(cube)\n",
    "\n",
    "if __name__ == \"__main__\":\n",
    "    # Create threads\n",
    "    thread1 = threading.Thread(target=print_squares)\n",
    "    thread2 = threading.Thread(target=print_cubes)\n",
    "\n",
    "    # Start threads\n",
    "    thread1.start()\n",
    "    thread2.start()\n",
    "\n",
    "    # Wait for threads to finish\n",
    "    thread1.join()\n",
    "    thread2.join()\n",
    "\n",
    "    print(\"Main thread exiting.\")"
   ]
  },
  {
   "cell_type": "markdown",
   "id": "3216d8d1",
   "metadata": {},
   "source": [
    "Q5. State advantages and disadvantages of multithreading"
   ]
  },
  {
   "cell_type": "markdown",
   "id": "75fa3cca",
   "metadata": {},
   "source": [
    "Multithreading offers several advantages and disadvantages, depending on the context and requirements of the application. Let's explore both:\n",
    "\n",
    "Advantages:\n",
    "\n",
    "1. **Improved Performance**: Multithreading can improve the performance of certain types of applications by leveraging multiple CPU cores or overlapping I/O-bound operations with computation. This can lead to better resource utilization and reduced overall execution time.\n",
    "\n",
    "2. **Concurrency**: Multithreading allows concurrent execution of tasks, enabling programs to perform multiple operations simultaneously. This is particularly useful for applications that need to handle multiple tasks concurrently, such as servers handling multiple client connections or GUI applications responding to user interactions while performing background tasks.\n",
    "\n",
    "3. **Responsiveness**: Multithreading can improve the responsiveness of interactive applications by keeping the user interface (UI) responsive while performing computationally intensive or blocking operations in the background.\n",
    "\n",
    "4. **Resource Sharing**: Threads within the same process can share resources such as memory, files, and other system resources more efficiently compared to separate processes. This enables communication and data sharing between threads, facilitating collaboration and synchronization.\n",
    "\n",
    "Disadvantages:\n",
    "\n",
    "1. **Complexity**: Multithreaded programming introduces additional complexity, such as race conditions, deadlocks, and synchronization issues. Writing correct and efficient multithreaded code requires careful consideration of thread safety and synchronization mechanisms, which can be challenging and error-prone.\n",
    "\n",
    "2. **Difficulty in Debugging**: Debugging multithreaded programs can be more challenging compared to single-threaded programs. Issues such as race conditions and deadlocks may manifest nondeterministically and can be difficult to reproduce and diagnose.\n",
    "\n",
    "3. **Resource Contentions**: Multithreading can lead to resource contentions, where multiple threads compete for shared resources such as CPU time, memory, or locks. This can result in decreased performance or unexpected behavior if not managed properly.\n",
    "\n",
    "4. **Increased Overhead**: Multithreading introduces overhead associated with thread creation, context switching, and synchronization mechanisms. In some cases, the overhead of managing multiple threads may outweigh the benefits of concurrency, especially for lightweight tasks or on systems with limited resources.\n",
    "\n",
    "In summary, while multithreading can offer significant advantages in terms of performance and concurrency, it also introduces complexity and challenges that must be carefully managed to ensure correct and efficient behavior. It's important to weigh the pros and cons of multithreading carefully and consider alternative concurrency models, such as multiprocessing or asynchronous programming, depending on the specific requirements of the application."
   ]
  },
  {
   "cell_type": "markdown",
   "id": "e5f1a195",
   "metadata": {},
   "source": [
    "Q6. Explain deadlocks and race conditions."
   ]
  },
  {
   "cell_type": "markdown",
   "id": "8f36cccd",
   "metadata": {},
   "source": [
    "Deadlocks and race conditions are two common concurrency-related issues that can occur in multithreaded programs. Let's explain each of them:\n",
    "\n",
    "1. Deadlocks:\n",
    "A deadlock occurs when two or more threads are blocked indefinitely, waiting for each other to release resources that they need. Deadlocks typically occur in concurrent systems where multiple threads compete for shared resources and each thread holds a resource while waiting to acquire another resource held by another thread. As a result, none of the threads can make progress, leading to a deadlock situation.\n",
    "\n",
    "Deadlocks typically involve four conditions, known as the Coffman conditions:\n",
    "   - Mutual Exclusion: At least one resource must be held in a non-sharable mode.\n",
    "   - Hold and Wait: A thread holds one resource while waiting to acquire another resource.\n",
    "   - No Preemption: Resources cannot be forcibly taken away from a thread.\n",
    "   - Circular Wait: There must be a circular chain of two or more threads, each holding a resource needed by the next thread in the chain.\n",
    "\n",
    "Example:\n",
    "Consider two threads, Thread A and Thread B, each holding a resource that the other thread needs. Thread A holds Resource 1 and is waiting to acquire Resource 2, while Thread B holds Resource 2 and is waiting to acquire Resource 1. Since neither thread can proceed without releasing the resource it holds, they are deadlocked.\n",
    "\n",
    "2. Race Conditions:\n",
    "A race condition occurs when the behavior of a program depends on the relative timing or interleaving of multiple threads executing concurrently. It arises when multiple threads access shared resources or variables in an uncoordinated manner, and the outcome of the program becomes non-deterministic.\n",
    "\n",
    "Race conditions typically occur when the following conditions are met:\n",
    "   - Shared Resource: Multiple threads access the same shared resource, such as a variable or data structure.\n",
    "   - Non-atomic Operations: Operations on the shared resource are not atomic, meaning they consist of multiple steps that can be interrupted by other threads.\n",
    "   - Unpredictable Interleaving: The interleaving of instructions from different threads is unpredictable, leading to different outcomes depending on the execution order.\n",
    "\n",
    "Example:\n",
    "Consider two threads, Thread A and Thread B, both incrementing a shared variable `count` by 1. If both threads read the value of `count` simultaneously, increment it, and then write the incremented value back, the final value of `count` may be incorrect due to interleaving of instructions. This can lead to a race condition where the final value of `count` depends on the timing of thread execution.\n",
    "\n",
    "To mitigate deadlocks and race conditions, concurrency control mechanisms such as locks, semaphores, mutexes, and condition variables are used to coordinate access to shared resources and ensure thread safety. Additionally, careful design and testing of multithreaded code can help identify and prevent these concurrency issues."
   ]
  }
 ],
 "metadata": {
  "kernelspec": {
   "display_name": "Python 3 (ipykernel)",
   "language": "python",
   "name": "python3"
  },
  "language_info": {
   "codemirror_mode": {
    "name": "ipython",
    "version": 3
   },
   "file_extension": ".py",
   "mimetype": "text/x-python",
   "name": "python",
   "nbconvert_exporter": "python",
   "pygments_lexer": "ipython3",
   "version": "3.11.5"
  }
 },
 "nbformat": 4,
 "nbformat_minor": 5
}
