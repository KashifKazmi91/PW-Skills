{
 "cells": [
  {
   "cell_type": "markdown",
   "id": "2212e49a",
   "metadata": {},
   "source": [
    "Q1. Explain Class and Object with respect to Object-Oriented Programming. Give a suitable example."
   ]
  },
  {
   "cell_type": "markdown",
   "id": "a7b16669",
   "metadata": {},
   "source": [
    "In object-oriented programming (OOP), a class is a blueprint or template for creating objects. It defines the properties (attributes) and behaviors (methods) that objects of that class will have. Think of a class as a blueprint for creating multiple instances of similar objects.\n",
    "An object, on the other hand, is an instance of a class. It is a concrete entity that is created based on the blueprint defined by the class. Objects have their own unique state (attribute values) and behavior (methods), but they share the structure defined by their class."
   ]
  },
  {
   "cell_type": "code",
   "execution_count": 1,
   "id": "1a1f5b25",
   "metadata": {},
   "outputs": [
    {
     "name": "stdout",
     "output_type": "stream",
     "text": [
      "2020 Toyota Camry\n",
      "This car has 0 miles on it.\n",
      "This car has 10000 miles on it.\n",
      "This car has 10100 miles on it.\n"
     ]
    }
   ],
   "source": [
    "# Define a class called 'Car'\n",
    "class Car:\n",
    "    # Constructor method to initialize attributes\n",
    "    def __init__(self, make, model, year):\n",
    "        self.make = make\n",
    "        self.model = model\n",
    "        self.year = year\n",
    "        self.odometer_reading = 0  # Default attribute\n",
    "\n",
    "    # Method to describe the car\n",
    "    def describe(self):\n",
    "        description = f\"{self.year} {self.make} {self.model}\"\n",
    "        return description\n",
    "\n",
    "    # Method to read the odometer\n",
    "    def read_odometer(self):\n",
    "        return f\"This car has {self.odometer_reading} miles on it.\"\n",
    "\n",
    "    # Method to update the odometer reading\n",
    "    def update_odometer(self, mileage):\n",
    "        if mileage >= self.odometer_reading:\n",
    "            self.odometer_reading = mileage\n",
    "        else:\n",
    "            print(\"You can't roll back an odometer!\")\n",
    "\n",
    "    # Method to increment odometer reading\n",
    "    def increment_odometer(self, miles):\n",
    "        self.odometer_reading += miles\n",
    "\n",
    "# Create an instance of the Car class\n",
    "my_car = Car(\"Toyota\", \"Camry\", 2020)\n",
    "\n",
    "# Accessing attributes and methods of the object\n",
    "print(my_car.describe())\n",
    "print(my_car.read_odometer())\n",
    "\n",
    "# Update odometer reading\n",
    "my_car.update_odometer(10000)\n",
    "print(my_car.read_odometer())\n",
    "\n",
    "# Increment odometer reading\n",
    "my_car.increment_odometer(100)\n",
    "print(my_car.read_odometer())"
   ]
  },
  {
   "cell_type": "markdown",
   "id": "73caeeef",
   "metadata": {},
   "source": [
    "Q2. Name the four pillars of OOPs."
   ]
  },
  {
   "cell_type": "markdown",
   "id": "268b3217",
   "metadata": {},
   "source": [
    "The four pillars of Object-Oriented Programming (OOP) are:\n",
    "1. Encapsulation: Encapsulation is the bundling of data (attributes) and methods (behaviors) that operate on the data into a single unit called a class. It allows for the hiding of the internal state of an object and only exposing the necessary functionalities. This helps in controlling access to the data and prevents unintended modifications.\n",
    "2. Abstraction: Abstraction is the process of simplifying complex systems by hiding unnecessary details while emphasizing the essential features. In OOP, abstraction allows developers to create abstract classes and interfaces that define a set of methods without specifying their implementation. It enables the separation of interface from implementation, making code more maintainable and scalable.\n",
    "3. Inheritance: Inheritance is a mechanism that allows a class (subclass or derived class) to inherit properties and behaviors from another class (superclass or base class). This promotes code reusability and establishes a hierarchical relationship between classes. Subclasses can extend or override the functionality of their superclass, providing flexibility in designing and structuring code.\n",
    "4. Polymorphism: Polymorphism refers to the ability of objects to take on multiple forms or behaviors based on the context in which they are used. It allows methods to behave differently depending on the object they are called on. Polymorphism is typically achieved through method overriding (inherited methods with the same signature but different implementations) and method overloading (multiple methods with the same name but different parameters). This promotes flexibility, extensibility, and code readability."
   ]
  },
  {
   "cell_type": "markdown",
   "id": "7776a266",
   "metadata": {},
   "source": [
    "Q3. Explain why the __init__() function is used. Give a suitable example."
   ]
  },
  {
   "cell_type": "markdown",
   "id": "099c22bc",
   "metadata": {},
   "source": [
    "In object-oriented programming, the __init__() function is a special method used for initializing newly created objects. It is called a constructor method because it is automatically invoked when a new instance of a class is created. The purpose of the __init__() method is to initialize the object's attributes with initial values or perform any necessary setup operations."
   ]
  },
  {
   "cell_type": "code",
   "execution_count": 2,
   "id": "ed42faa3",
   "metadata": {},
   "outputs": [
    {
     "name": "stdout",
     "output_type": "stream",
     "text": [
      "Name: Alice, Age: 30\n",
      "Name: Bob, Age: 25\n"
     ]
    }
   ],
   "source": [
    "class Person:\n",
    "    # Constructor method to initialize attributes\n",
    "    def __init__(self, name, age):\n",
    "        self.name = name\n",
    "        self.age = age\n",
    "    \n",
    "    # Method to display information about the person\n",
    "    def display_info(self):\n",
    "        print(f\"Name: {self.name}, Age: {self.age}\")\n",
    "\n",
    "# Creating instances of the Person class\n",
    "person1 = Person(\"Alice\", 30)\n",
    "person2 = Person(\"Bob\", 25)\n",
    "\n",
    "# Displaying information about the persons\n",
    "person1.display_info()\n",
    "person2.display_info()"
   ]
  },
  {
   "cell_type": "markdown",
   "id": "0433826d",
   "metadata": {},
   "source": [
    "Q4. Why self is used in OOPs?"
   ]
  },
  {
   "cell_type": "markdown",
   "id": "138d67f0",
   "metadata": {},
   "source": [
    "4. Why self is used in OOPs?\n",
    "ChatGPT\n",
    "\n",
    "In object-oriented programming (OOP), self is a reference to the current instance of a class. It is used to access variables and methods within the class. The use of self is essential for maintaining proper encapsulation and ensuring that each instance of a class operates independently.\n",
    "\n",
    "Here are the main reasons why self is used in OOP:\n",
    "\n",
    "    Accessing Instance Variables: Inside a class, self is used to access instance variables (attributes) associated with the current object. When a method is called on an object, self allows the method to refer to and manipulate the object's specific attributes.\n",
    "\n",
    "    Calling Other Methods: self is used to call other methods within the class. Methods within the same class can be called using self.method_name() syntax, ensuring that the correct method is invoked on the current instance.\n",
    "\n",
    "    Creating Instance Variables: self is used to create instance variables within the class. When initializing attributes in the __init__() method or any other method, self.attribute_name syntax is used to bind the attribute to the current instance.\n",
    "\n",
    "    Identifying the Instance: self helps in identifying the instance to which a method or attribute belongs. It distinguishes between instance variables and local variables within the methods of the class."
   ]
  },
  {
   "cell_type": "code",
   "execution_count": 3,
   "id": "d30390e5",
   "metadata": {},
   "outputs": [
    {
     "name": "stdout",
     "output_type": "stream",
     "text": [
      "Value of x: 10\n",
      "Value of x: 20\n",
      "Value of x: 15\n"
     ]
    }
   ],
   "source": [
    "class MyClass:\n",
    "    def __init__(self, x):\n",
    "        self.x = x  # 'self.x' creates an instance variable 'x'\n",
    "\n",
    "    def display(self):\n",
    "        print(\"Value of x:\", self.x)  # Accessing instance variable 'x' using 'self'\n",
    "\n",
    "    def update(self, new_x):\n",
    "        self.x = new_x  # Updating instance variable 'x' using 'self'\n",
    "\n",
    "# Creating instances of MyClass\n",
    "obj1 = MyClass(10)\n",
    "obj2 = MyClass(20)\n",
    "\n",
    "# Calling methods on instances\n",
    "obj1.display()  # Output: Value of x: 10\n",
    "obj2.display()  # Output: Value of x: 20\n",
    "\n",
    "# Updating instance variable 'x' for obj1\n",
    "obj1.update(15)\n",
    "obj1.display()  # Output: Value of x: 15"
   ]
  },
  {
   "cell_type": "markdown",
   "id": "e35aea36",
   "metadata": {},
   "source": [
    "Q5. What is inheritance? Give an example for each type of inheritance."
   ]
  },
  {
   "cell_type": "markdown",
   "id": "2f9fed04",
   "metadata": {},
   "source": [
    "Inheritance is one of the fundamental concepts in object-oriented programming (OOP), where a class (subclass or derived class) inherits properties and behaviors from another class (superclass or base class). This allows the subclass to reuse the code of the superclass, promoting code reusability and establishing a hierarchical relationship between classes.\n",
    "\n",
    "There are several types of inheritance:\n",
    "\n",
    "    Single Inheritance:\n",
    "    In single inheritance, a subclass inherits from only one superclass. This is the most common type of inheritance."
   ]
  },
  {
   "cell_type": "code",
   "execution_count": 4,
   "id": "76ffa72d",
   "metadata": {},
   "outputs": [
    {
     "name": "stdout",
     "output_type": "stream",
     "text": [
      "Animal speaks\n",
      "Dog barks\n"
     ]
    }
   ],
   "source": [
    "# Superclass\n",
    "class Animal:\n",
    "    def speak(self):\n",
    "        print(\"Animal speaks\")\n",
    "\n",
    "# Subclass inheriting from Animal\n",
    "class Dog(Animal):\n",
    "    def bark(self):\n",
    "        print(\"Dog barks\")\n",
    "\n",
    "# Creating an instance of Dog class\n",
    "dog = Dog()\n",
    "dog.speak()  # Output: Animal speaks\n",
    "dog.bark()   # Output: Dog barks"
   ]
  },
  {
   "cell_type": "markdown",
   "id": "9b570ddf",
   "metadata": {},
   "source": [
    "Multiple Inheritance:\n",
    "In multiple inheritance, a subclass inherits from multiple superclasses. This allows the subclass to inherit attributes and methods from all the superclasses."
   ]
  },
  {
   "cell_type": "code",
   "execution_count": 5,
   "id": "66073680",
   "metadata": {},
   "outputs": [
    {
     "name": "stdout",
     "output_type": "stream",
     "text": [
      "Method 1 from Parent1\n",
      "Method 2 from Parent2\n",
      "Method 3 from Child\n"
     ]
    }
   ],
   "source": [
    "# Superclasses\n",
    "class Parent1:\n",
    "    def method1(self):\n",
    "        print(\"Method 1 from Parent1\")\n",
    "\n",
    "class Parent2:\n",
    "    def method2(self):\n",
    "        print(\"Method 2 from Parent2\")\n",
    "\n",
    "# Subclass inheriting from Parent1 and Parent2\n",
    "class Child(Parent1, Parent2):\n",
    "    def method3(self):\n",
    "        print(\"Method 3 from Child\")\n",
    "\n",
    "# Creating an instance of Child class\n",
    "child = Child()\n",
    "child.method1()  # Output: Method 1 from Parent1\n",
    "child.method2()  # Output: Method 2 from Parent2\n",
    "child.method3()  # Output: Method 3 from Child"
   ]
  },
  {
   "cell_type": "markdown",
   "id": "05a54355",
   "metadata": {},
   "source": [
    "Multilevel Inheritance:\n",
    "In multilevel inheritance, a subclass inherits from another subclass, creating a chain of inheritance. Each subclass inherits attributes and methods from its immediate superclass."
   ]
  },
  {
   "cell_type": "code",
   "execution_count": 6,
   "id": "e40a0b59",
   "metadata": {},
   "outputs": [
    {
     "name": "stdout",
     "output_type": "stream",
     "text": [
      "Animal speaks\n",
      "Dog barks\n",
      "Puppy plays\n"
     ]
    }
   ],
   "source": [
    "# Superclasses\n",
    "class Animal:\n",
    "    def speak(self):\n",
    "        print(\"Animal speaks\")\n",
    "\n",
    "# Subclass inheriting from Animal\n",
    "class Dog(Animal):\n",
    "    def bark(self):\n",
    "        print(\"Dog barks\")\n",
    "\n",
    "# Subclass inheriting from Dog\n",
    "class Puppy(Dog):\n",
    "    def play(self):\n",
    "        print(\"Puppy plays\")\n",
    "\n",
    "# Creating an instance of Puppy class\n",
    "puppy = Puppy()\n",
    "puppy.speak()  # Output: Animal speaks\n",
    "puppy.bark()   # Output: Dog barks\n",
    "puppy.play()   # Output: Puppy plays"
   ]
  },
  {
   "cell_type": "code",
   "execution_count": null,
   "id": "e7530d7b",
   "metadata": {},
   "outputs": [],
   "source": []
  }
 ],
 "metadata": {
  "kernelspec": {
   "display_name": "Python 3 (ipykernel)",
   "language": "python",
   "name": "python3"
  },
  "language_info": {
   "codemirror_mode": {
    "name": "ipython",
    "version": 3
   },
   "file_extension": ".py",
   "mimetype": "text/x-python",
   "name": "python",
   "nbconvert_exporter": "python",
   "pygments_lexer": "ipython3",
   "version": "3.11.5"
  }
 },
 "nbformat": 4,
 "nbformat_minor": 5
}
